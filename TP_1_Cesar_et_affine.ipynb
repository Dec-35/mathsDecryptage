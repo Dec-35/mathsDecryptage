{
  "cells": [
    {
      "cell_type": "markdown",
      "metadata": {
        "colab_type": "text",
        "id": "view-in-github"
      },
      "source": [
        "<a href=\"https://colab.research.google.com/github/Dec-35/mathsDecryptage/blob/main/TP_1_Cesar_et_affine.ipynb\" target=\"_parent\"><img src=\"https://colab.research.google.com/assets/colab-badge.svg\" alt=\"Open In Colab\"/></a>"
      ]
    },
    {
      "cell_type": "markdown",
      "id": "ca99b371",
      "metadata": {
        "id": "ca99b371"
      },
      "source": [
        "# TP 1 - Chiffrement symétrique (1)"
      ]
    },
    {
      "cell_type": "markdown",
      "id": "76e35ec2",
      "metadata": {
        "id": "76e35ec2"
      },
      "source": [
        "La <b>cryptographie</b> est un ensemble de techniques permettant de transformer un <i>message clair</i> en <i>message chiffré</i> qui ne peut pas être déchiffré sans la connaissance d'une clé secrète.\n",
        "\n",
        "Nous allons commencer l'étude de différents algortihmes de chiffrement par les algorithmes de chiffrement <b>symétrique</b>. Le principe général de ces algorithmes est basé sur le partage d'une unique clé secrète entre l'expéditeur et le destinataire. Cette clé va servir à chiffrer un message mais aussi à le déchiffrer, il est donc indispensable qu'elle ne soit pas divulguée."
      ]
    },
    {
      "cell_type": "markdown",
      "id": "0561fa86",
      "metadata": {
        "id": "0561fa86"
      },
      "source": [
        "### IMPORTANT :"
      ]
    },
    {
      "cell_type": "markdown",
      "id": "590495cb",
      "metadata": {
        "id": "590495cb"
      },
      "source": [
        "Avant de commencer le TP, nous allons charger les différentes fonctions que vous avez écrites lors du TP1 - Arithmétique pour la cryptographie, et qui nous serons utile. Pour celà, il vous suffit de créer un fichier intitulé <code>OutilsCrypto.py</code>, d'y coller le code des différentes fonctions du TP1, de le sauvegarder au même endroit que ce TP, et de le charger en exécutant le bloc suivant."
      ]
    },
    {
      "cell_type": "code",
      "execution_count": 1,
      "id": "53ZiT7rT4JEK",
      "metadata": {
        "colab": {
          "base_uri": "https://localhost:8080/"
        },
        "id": "53ZiT7rT4JEK",
        "outputId": "2260b2f9-a4a2-47de-c682-46c88c44f87a"
      },
      "outputs": [
        {
          "ename": "ModuleNotFoundError",
          "evalue": "No module named 'google'",
          "output_type": "error",
          "traceback": [
            "\u001b[0;31m---------------------------------------------------------------------------\u001b[0m",
            "\u001b[0;31mModuleNotFoundError\u001b[0m                       Traceback (most recent call last)",
            "\u001b[1;32m/Users/dec/Codage/maths/mathsDecryptage-1/TP_1_Cesar_et_affine.ipynb Cell 6\u001b[0m line \u001b[0;36m1\n\u001b[0;32m----> <a href='vscode-notebook-cell:/Users/dec/Codage/maths/mathsDecryptage-1/TP_1_Cesar_et_affine.ipynb#W5sZmlsZQ%3D%3D?line=0'>1</a>\u001b[0m \u001b[39mfrom\u001b[39;00m \u001b[39mgoogle\u001b[39;00m\u001b[39m.\u001b[39;00m\u001b[39mcolab\u001b[39;00m \u001b[39mimport\u001b[39;00m drive\n\u001b[1;32m      <a href='vscode-notebook-cell:/Users/dec/Codage/maths/mathsDecryptage-1/TP_1_Cesar_et_affine.ipynb#W5sZmlsZQ%3D%3D?line=1'>2</a>\u001b[0m drive\u001b[39m.\u001b[39mmount(\u001b[39m'\u001b[39m\u001b[39m/content/drive\u001b[39m\u001b[39m'\u001b[39m)\n\u001b[1;32m      <a href='vscode-notebook-cell:/Users/dec/Codage/maths/mathsDecryptage-1/TP_1_Cesar_et_affine.ipynb#W5sZmlsZQ%3D%3D?line=2'>3</a>\u001b[0m \u001b[39mimport\u001b[39;00m \u001b[39msys\u001b[39;00m\n",
            "\u001b[0;31mModuleNotFoundError\u001b[0m: No module named 'google'"
          ]
        }
      ],
      "source": [
        "from google.colab import drive\n",
        "drive.mount('/content/drive')\n",
        "import sys\n",
        "sys.path.append('/content/drive/MyDrive/Colab Notebooks/BUT 2/R3.09 - Crypto')"
      ]
    },
    {
      "cell_type": "code",
      "execution_count": 2,
      "id": "bb256d1d",
      "metadata": {
        "id": "bb256d1d"
      },
      "outputs": [],
      "source": [
        "from OutilsCrypto import *"
      ]
    },
    {
      "cell_type": "markdown",
      "id": "1776a22b",
      "metadata": {
        "id": "1776a22b"
      },
      "source": [
        "À la fin de chaque TP, vous pourrez compléter le fichier <code>OutilsCrypto.py</code> en y ajoutant les nouvelles fonctions écrites."
      ]
    },
    {
      "cell_type": "markdown",
      "id": "ccf95f53",
      "metadata": {
        "id": "ccf95f53"
      },
      "source": [
        "## 1. Préparation du texte à chiffrer\n",
        "Pour chiffrer un message, quel que soit l'algorithme choisi, il faut souvent commencer par le transformer pour pouvoir lui appliquer des opérations mathématiques.<br>"
      ]
    },
    {
      "cell_type": "markdown",
      "id": "dc5355d9",
      "metadata": {
        "id": "dc5355d9"
      },
      "source": [
        "### 1.1 Filtre : enlever les caractères spéciaux"
      ]
    },
    {
      "cell_type": "markdown",
      "id": "cfbf9ab2",
      "metadata": {
        "id": "cfbf9ab2"
      },
      "source": [
        "La première étape consiste en général à <i>nettoyer</i> le texte en se débarrassant des accents, des signes de ponctuation, des caractères spéciaux, etc."
      ]
    },
    {
      "cell_type": "markdown",
      "id": "ea365425",
      "metadata": {
        "id": "ea365425"
      },
      "source": [
        "<b> Exercice 1.</b> Écrire la fonction <code>Filtre(txt)</code> permettant de gérer cet aspect. Elle doit transformer n'importe quelle chaîne de caractères en une chaîne en minuscule ne contenant que les lettres de l'alphabet non accentuées.<br>\n",
        "Par exemple, \"Bonjour, ça va ?\" doit devenir : \"bonjourcava\"<br>\n",
        "<i>Indication :</i> Vous pourrez utiliser la fonction <code>.lower()</code> ainsi que la fonction <code>ord()</code>."
      ]
    },
    {
      "cell_type": "code",
      "execution_count": 3,
      "id": "26aa0055",
      "metadata": {
        "id": "26aa0055"
      },
      "outputs": [],
      "source": [
        "def Filtre(txt) :\n",
        "    res=\"\"\n",
        "    for c in txt.lower() :\n",
        "        if(ord('a')<=ord(c)<=ord('z')) : res+=c\n",
        "        if(c=='à' or c=='â' or c=='ä' or c=='á' or c=='å') : res+='a'\n",
        "        elif(c=='ç') : res+='c'\n",
        "        elif(c=='é' or c=='è' or c=='ê' or c=='ë') : res+='e'\n",
        "        elif(c=='ï' or c=='î' or c=='ì' or c=='í') : res+='i'\n",
        "        elif(c=='ö' or c=='ò' or c=='ô' or c=='ø' or c=='ó') : res+='o'\n",
        "        elif(c=='û' or c=='ü' or c=='ù' or c=='ú') : res+='u'\n",
        "        elif(c=='æ') : res+='ae'\n",
        "        elif(c=='œ') : res+='oe'\n",
        "        elif(c=='ÿ') : res+='y'\n",
        "        elif(c=='ñ') : res+='n'\n",
        "        elif(c=='ß') : res+='ss'\n",
        "    return res"
      ]
    },
    {
      "cell_type": "markdown",
      "id": "e4ceeea3",
      "metadata": {
        "id": "e4ceeea3"
      },
      "source": [
        "Tester votre fonction à l'aide du bloc suivant."
      ]
    },
    {
      "cell_type": "code",
      "execution_count": 4,
      "id": "ed684773",
      "metadata": {
        "colab": {
          "base_uri": "https://localhost:8080/",
          "height": 54
        },
        "id": "ed684773",
        "outputId": "681b9453-e2f7-44c6-f6f7-c61dd4130a84"
      },
      "outputs": [
        {
          "data": {
            "text/plain": [
              "'rien'"
            ]
          },
          "execution_count": 4,
          "metadata": {},
          "output_type": "execute_result"
        }
      ],
      "source": [
        "txt = input(\"texte = \")\n",
        "Filtre(txt)"
      ]
    },
    {
      "cell_type": "markdown",
      "id": "a38f035e",
      "metadata": {
        "id": "a38f035e"
      },
      "source": [
        "### 1.2 Codage et décodage d'un caractère en nombre"
      ]
    },
    {
      "cell_type": "markdown",
      "id": "5ed729a5",
      "metadata": {
        "id": "5ed729a5"
      },
      "source": [
        "L'étape suivante consiste à écrire une fonction <code>code(c)</code> qui associe un nombre à chaque lettre <code>c</code> afin de pouvoir appliquer des opérations mathématiques. Nous utiliserons ici le procédé le plus simple qui consiste à associer <b>0</b> à <b>a</b>, <b>1</b> à <b>b</b>, ... , <b>25</b> à <b>z</b>.<br>\n",
        "Nous utliserons également la fonction inverse <code>decode(n)</code> qui consistera à retrouver une lettre à partir du nombre qui lui est associé."
      ]
    },
    {
      "cell_type": "markdown",
      "id": "ddf7c106",
      "metadata": {
        "id": "ddf7c106"
      },
      "source": [
        "<b> Exercice 2.</b> Écrire la fonction <code>code(c)</code> qui prend en paramètre un caractère <code>c</code> et qui renvoie le nombre associé. Elle doit envoyer $-1$ si $c$ n'est pas un caractère autorisé (i.e. une lettre non accentuée entre a et z)"
      ]
    },
    {
      "cell_type": "code",
      "execution_count": 6,
      "id": "11280987",
      "metadata": {
        "id": "11280987"
      },
      "outputs": [],
      "source": [
        "#Code erreur : -1\n",
        "def code(c) :\n",
        "    res = \"\"\n",
        "    res = Filtre(c)\n",
        "    if res == \"\" :\n",
        "      return -1\n",
        "\n",
        "    return ord(res) -  97 #décalage unicode"
      ]
    },
    {
      "cell_type": "markdown",
      "id": "8c897bf5",
      "metadata": {
        "id": "8c897bf5"
      },
      "source": [
        "<b> Exercice 3.</b> Écrire la fonction <code>decode(n)</code> qui prend en paramètre un entier <code>n</code> et qui renvoie le caractère associé. Elle doit envoyer \"?\" si $n$ n'est pas un nombre autorisé (i.e. un nombre $0\\leq n\\leq 25$)"
      ]
    },
    {
      "cell_type": "code",
      "execution_count": 7,
      "id": "cac27eb0",
      "metadata": {
        "id": "cac27eb0"
      },
      "outputs": [],
      "source": [
        "#Code erreur : '?'\n",
        "def decode(n) :\n",
        "    # à compléter\n",
        "    if(0 <= n <= 25) :\n",
        "      n = n + 97\n",
        "      return chr(n)\n",
        "    return '?'"
      ]
    },
    {
      "cell_type": "markdown",
      "id": "a3b61165",
      "metadata": {
        "id": "a3b61165"
      },
      "source": [
        "Tester ces fonctions à l'aide du bloc de code suivant."
      ]
    },
    {
      "cell_type": "code",
      "execution_count": 8,
      "id": "34ed7179",
      "metadata": {
        "colab": {
          "base_uri": "https://localhost:8080/"
        },
        "id": "34ed7179",
        "outputId": "0367963f-5270-4ea9-88d1-315c9c862320"
      },
      "outputs": [
        {
          "name": "stdout",
          "output_type": "stream",
          "text": [
            "0\n",
            "7\n",
            "-1\n",
            "a\n",
            "f\n",
            "?\n"
          ]
        }
      ],
      "source": [
        "print(code(\"a\")) # on attend 0\n",
        "print(code(\"h\")) # on attend 7\n",
        "print(code(\"!\")) # on attend -1\n",
        "print(decode(0)) # on attend a\n",
        "print(decode(5)) # on attend f\n",
        "print(decode(-1)) # on attend ?"
      ]
    },
    {
      "cell_type": "markdown",
      "id": "2d21766e",
      "metadata": {
        "id": "2d21766e"
      },
      "source": [
        "## 2. Chiffrement de César"
      ]
    },
    {
      "cell_type": "markdown",
      "id": "2ea503b3",
      "metadata": {
        "id": "2ea503b3"
      },
      "source": [
        "Le chiffrement de César, appelé aussi chiffrement à décalage, consiste à décaler chaque lettre du message de $k$ lettres. Ainsi, si on choisit $k=3$ par exemple, <b>a</b> devient <b>d</b>, <b>b</b> devient <b>e</b>, etc. Quand on arrive à la fin de l'alphabet, on repart du début : <b>x</b> devient <b>a</b>, <b>y</b> devient <b>b</b> et <b>z</b> devient <b>c</b>.<br>\n",
        "Cette opération de décalage s'exprime très bien sur les nombres associés aux lettres par le procédé de codage détaillé ci-dessus.<br>\n",
        "$$\n",
        "\\begin{array}{rccc}\n",
        "f_k\\ :\\ & \\mathbb{Z}/26\\mathbb{Z} & \\longrightarrow & \\mathbb{Z}/26\\mathbb{Z}\\\\\n",
        "& x & \\longmapsto & x+k\n",
        "\\end{array}\n",
        "$$\n",
        "En effet, si on part de la lettre <b>z</b>, elle est codée par 25, on calcule $$f_3(25) \\equiv 25+3 \\equiv 28 \\equiv 2 \\pmod{26}$$ et 2 est décodé en <b>c</b>."
      ]
    },
    {
      "cell_type": "markdown",
      "id": "3ef6c3b1",
      "metadata": {
        "id": "3ef6c3b1"
      },
      "source": [
        "<b> Exercice 4.</b> Sur papier, chiffrer le mot \"bonjour\" en utilisant le chiffrement de César avec la clé 3. Indiquer votre réponse en éditant puis exécutant le bloc suivant."
      ]
    },
    {
      "cell_type": "markdown",
      "id": "a06e83f6",
      "metadata": {
        "id": "a06e83f6"
      },
      "source": [
        "<div style=\"background-color:rgba(0, 255, 0, 0.19);padding:3%;\">\n",
        "<b>Réponse : </b> Le texte \"bonjour\" chiffré avec le chiffrement de César de clé 3 est <b>erqmrxu</b>\n",
        "</div>"
      ]
    },
    {
      "cell_type": "markdown",
      "id": "965294a0",
      "metadata": {
        "id": "965294a0"
      },
      "source": [
        "Écrire la fonction <code>chiffreCesar(mot,cle)</code> qui a deux paramètres obligatoires :\n",
        "<ul>\n",
        "    <li><code>mot</code> : une chaîne de caractères</li>\n",
        "    <li><code>cle</code> : un entier</li>\n",
        "</ul>\n",
        "Cette fonction renvoie une chaîne de caractères correspondant au chiffrement de César de <code>mot</code> avec la clé <code>cle</code>.<br>\n",
        "\n",
        "La fonction renvoie la chaine vide (ie $\\texttt{\"\"}$) en cas d'erreur.\n",
        "</p>"
      ]
    },
    {
      "cell_type": "code",
      "execution_count": 9,
      "id": "e776df63",
      "metadata": {
        "id": "e776df63"
      },
      "outputs": [],
      "source": [
        "def chiffreCesar(mot,k):\n",
        "    res = \"\"\n",
        "    for c in mot :\n",
        "        res += decode((code(c)+k)%26)\n",
        "    return res"
      ]
    },
    {
      "cell_type": "markdown",
      "id": "04be45e9",
      "metadata": {
        "id": "04be45e9"
      },
      "source": [
        "Tester votre fonction à l'aide du bloc de code suivant."
      ]
    },
    {
      "cell_type": "code",
      "execution_count": 10,
      "id": "618d6c00",
      "metadata": {
        "id": "618d6c00"
      },
      "outputs": [
        {
          "name": "stdout",
          "output_type": "stream",
          "text": [
            "*** CHIFFREMENT ***\n",
            "Le texte ' bonjour ' chiffré avec le chiffrement de César de clé 3  est :  erqmrxu\n"
          ]
        }
      ],
      "source": [
        "print(\"*** CHIFFREMENT ***\")\n",
        "txt = \"bonjour\"\n",
        "cle = 3\n",
        "texte_chiffre = chiffreCesar(txt,cle)\n",
        "print(\"Le texte '\",txt,\"' chiffré avec le chiffrement de César de clé\",cle,\" est : \",texte_chiffre)"
      ]
    },
    {
      "cell_type": "markdown",
      "id": "12f17b63",
      "metadata": {
        "id": "12f17b63"
      },
      "source": [
        "Sur papier, déchiffrer le mot \"hbylcvpy\" en sachant qu'il a été chiffré à l'aide du chiffrement de César avec la clé 7. Indiquer votre réponse en éditant puis exécutant le bloc suivant."
      ]
    },
    {
      "cell_type": "markdown",
      "id": "9019d9be",
      "metadata": {
        "id": "9019d9be"
      },
      "source": [
        "<div style=\"background-color:rgba(0, 255, 0, 0.19);padding:3%;\">\n",
        "<b>Réponse : </b> Le texte \"hbylcvpy\" déchiffré avec le chiffrement de César de clé 7 est <b>aurevoir</b>\n",
        "</div>"
      ]
    },
    {
      "cell_type": "markdown",
      "id": "ca724825",
      "metadata": {
        "id": "ca724825"
      },
      "source": [
        "Écrire la fonction <code>dechiffreCesar(mot,cle)</code> qui permet de déchiffrer un <code>mot</code> qui a été chiffré avec la clé <code>clé</code>."
      ]
    },
    {
      "cell_type": "code",
      "execution_count": 11,
      "id": "66b828c6",
      "metadata": {
        "id": "66b828c6"
      },
      "outputs": [],
      "source": [
        "def dechiffreCesar(mot,k):\n",
        "    res = \"\"\n",
        "    for c in mot :\n",
        "        res += decode((code(c)-k)%26)\n",
        "    return res"
      ]
    },
    {
      "cell_type": "markdown",
      "id": "269d1a90",
      "metadata": {
        "id": "269d1a90"
      },
      "source": [
        "Tester votre fonction à l'aide du bloc de code suivant."
      ]
    },
    {
      "cell_type": "code",
      "execution_count": 12,
      "id": "39471479",
      "metadata": {
        "id": "39471479"
      },
      "outputs": [
        {
          "name": "stdout",
          "output_type": "stream",
          "text": [
            "*** DECHIFFREMENT ***\n",
            "Le texte ' hbylcvpy ' déchiffré avec le chiffrement de César de clé 7  est :  aurevoir\n"
          ]
        }
      ],
      "source": [
        "print(\"*** DECHIFFREMENT ***\")\n",
        "txt = \"hbylcvpy\"\n",
        "cle = 7\n",
        "texte_clair = dechiffreCesar(txt,cle)\n",
        "print(\"Le texte '\",txt,\"' déchiffré avec le chiffrement de César de clé\",cle,\" est : \",texte_clair)"
      ]
    },
    {
      "cell_type": "markdown",
      "id": "fd99c5cb",
      "metadata": {
        "id": "fd99c5cb"
      },
      "source": [
        "<b>Un peu de cryptanalyse. </b> Écrire la fonction <code>decrypteCesar(mot)</code> qui affiche toutes les possibilités de déchiffrement de <code>mot</code> par brute force."
      ]
    },
    {
      "cell_type": "code",
      "execution_count": 23,
      "id": "adc01417",
      "metadata": {
        "id": "adc01417"
      },
      "outputs": [],
      "source": [
        "def decrypteCesar(mot):\n",
        "    for i in range(26) :\n",
        "        for c in mot :\n",
        "            print(decode((code(c)-i)%26), end=\"\")\n",
        "        print(' avec la clé', i)"
      ]
    },
    {
      "cell_type": "markdown",
      "id": "b386ab24",
      "metadata": {
        "id": "b386ab24"
      },
      "source": [
        "Dans le bloc suivant, utilisez la fonction <code>decrypteCesar(mot)</code> pour décrypter le texte <b>prfgdhnaqzrzrcnfgreevoyryrpuvsserzragqrprfne</b>"
      ]
    },
    {
      "cell_type": "code",
      "execution_count": 24,
      "id": "425fb4da",
      "metadata": {
        "id": "425fb4da",
        "scrolled": true
      },
      "outputs": [
        {
          "name": "stdout",
          "output_type": "stream",
          "text": [
            "prfgdhnaqzrzrcnfgreevoyryrpuvsserzragqrprfne avec la clé 0\n",
            "oqefcgmzpyqyqbmefqddunxqxqoturrdqyqzfpqoqemd avec la clé 1\n",
            "npdebflyoxpxpaldepcctmwpwpnstqqcpxpyeopnpdlc avec la clé 2\n",
            "mocdaekxnwowozkcdobbslvovomrsppbowoxdnomockb avec la clé 3\n",
            "lnbczdjwmvnvnyjbcnaarkununlqrooanvnwcmnlnbja avec la clé 4\n",
            "kmabycivlumumxiabmzzqjtmtmkpqnnzmumvblmkmaiz avec la clé 5\n",
            "jlzaxbhuktltlwhzalyypislsljopmmyltluakljlzhy avec la clé 6\n",
            "ikyzwagtjskskvgyzkxxohrkrkinollxksktzjkikygx avec la clé 7\n",
            "hjxyvzfsirjrjufxyjwwngqjqjhmnkkwjrjsyijhjxfw avec la clé 8\n",
            "giwxuyerhqiqitewxivvmfpipiglmjjviqirxhigiwev avec la clé 9\n",
            "fhvwtxdqgphphsdvwhuuleohohfkliiuhphqwghfhvdu avec la clé 10\n",
            "eguvswcpfogogrcuvgttkdngngejkhhtgogpvfgeguct avec la clé 11\n",
            "dfturvboenfnfqbtufssjcmfmfdijggsfnfouefdftbs avec la clé 12\n",
            "cestquandmemepasterriblelechiffrementdecesar avec la clé 13\n",
            "bdrsptzmcldldozrsdqqhakdkdbgheeqdldmscdbdrzq avec la clé 14\n",
            "acqrosylbkckcnyqrcppgzjcjcafgddpckclrbcacqyp avec la clé 15\n",
            "zbpqnrxkajbjbmxpqboofyibibzefccobjbkqabzbpxo avec la clé 16\n",
            "yaopmqwjziaialwopannexhahaydebbnaiajpzayaown avec la clé 17\n",
            "xznolpviyhzhzkvnozmmdwgzgzxcdaamzhzioyzxznvm avec la clé 18\n",
            "wymnkouhxgygyjumnyllcvfyfywbczzlygyhnxywymul avec la clé 19\n",
            "vxlmjntgwfxfxitlmxkkbuexexvabyykxfxgmwxvxltk avec la clé 20\n",
            "uwklimsfvewewhsklwjjatdwdwuzaxxjwewflvwuwksj avec la clé 21\n",
            "tvjkhlreudvdvgrjkviizscvcvtyzwwivdvekuvtvjri avec la clé 22\n",
            "suijgkqdtcucufqijuhhyrbubusxyvvhucudjtusuiqh avec la clé 23\n",
            "rthifjpcsbtbtephitggxqatatrwxuugtbtcistrthpg avec la clé 24\n",
            "qsgheiobrasasdoghsffwpzszsqvwttfsasbhrsqsgof avec la clé 25\n"
          ]
        }
      ],
      "source": [
        "decrypteCesar(\"prfgdhnaqzrzrcnfgreevoyryrpuvsserzragqrprfne\")"
      ]
    },
    {
      "cell_type": "markdown",
      "id": "a3da8b62",
      "metadata": {
        "id": "a3da8b62"
      },
      "source": [
        "<b> Question : </b>Combien de résultats différents obtient-on ? Retrouver la clé et le texte décrypté."
      ]
    },
    {
      "cell_type": "markdown",
      "id": "24b53f5c",
      "metadata": {
        "id": "24b53f5c"
      },
      "source": [
        "<div style=\"background-color:rgba(0, 255, 0, 0.19);padding:3%;\">\n",
        "<b>Réponse : </b> Il y a <b>26</b> résultats à analyser. La clé est <b>13</b> et le texte décrypté est <b>cestquandmemepasterriblelechiffrementdecesar</b>\n",
        "</div>"
      ]
    },
    {
      "cell_type": "markdown",
      "id": "bc93e6be",
      "metadata": {
        "id": "bc93e6be"
      },
      "source": [
        "## 3. Chiffrement affine"
      ]
    },
    {
      "cell_type": "markdown",
      "id": "af1007e0",
      "metadata": {
        "id": "af1007e0"
      },
      "source": [
        "Le chiffrement affine est une modification de l'algorithme de César qui consiste à choisr comme clé un couple d'entiers $(a,b)$ et à appliquer à chaque nombre $x$ codant un caractère $c$ la transformation affine $ax+b \\pmod{26}$.<br>\n",
        "$$\n",
        "\\begin{array}{rccc}\n",
        "f_{a,b}\\ :\\ & \\mathbb{Z}/26\\mathbb{Z} & \\longrightarrow & \\mathbb{Z}/26\\mathbb{Z}\\\\\n",
        "& x & \\longmapsto & ax+b\n",
        "\\end{array}\n",
        "$$\n",
        "Par exemple, avec la clé $(3,7)$ si on part de la lettre <b>z</b>, elle est codée par 25, on calcule $$f_{3,7}(25) \\equiv 3*25+7 \\equiv 82 \\equiv 4 \\pmod{26}$$ et 4 est décodé en <b>e</b>."
      ]
    },
    {
      "cell_type": "markdown",
      "id": "0ad83f6a",
      "metadata": {
        "id": "0ad83f6a"
      },
      "source": [
        "<b> Exercice 5.</b> Sur papier, chiffrer le mot \"bonjour\" en utilisant le chiffrement affine de clé $(3,7)$. Indiquer votre réponse en éditant puis exécutant le bloc suivant."
      ]
    },
    {
      "cell_type": "markdown",
      "id": "8c0e3e81",
      "metadata": {
        "id": "8c0e3e81"
      },
      "source": [
        "<div style=\"background-color:rgba(0, 255, 0, 0.19);padding:3%;\">\n",
        "<b>Réponse : </b> Le texte \"bonjour\" chiffré avec le chiffrement affine de clé $(3,7)$ est <b>kxuixpg</b>\n",
        "</div>"
      ]
    },
    {
      "cell_type": "markdown",
      "id": "ecceedbd",
      "metadata": {
        "id": "ecceedbd"
      },
      "source": [
        "Écrire la fonction <code>chiffreAffine(mot,a,b)</code> qui a deux paramètres obligatoires :\n",
        "<ul>\n",
        "    <li><code>mot</code> : une chaîne de caractères</li>\n",
        "    <li><code>a,b</code> : 2 entiers</li>\n",
        "</ul>\n",
        "Cette fonction renvoie une chaîne de caractères correspondant au chiffrement affine de <code>mot</code> avec la clé <code>(a,b)</code>.<br>\n",
        "\n",
        "La fonction renvoie la chaine vide (ie $\\texttt{\"\"}$) en cas d'erreur.\n",
        "</p>"
      ]
    },
    {
      "cell_type": "code",
      "execution_count": 30,
      "id": "54c32fc3",
      "metadata": {
        "id": "54c32fc3"
      },
      "outputs": [],
      "source": [
        "def chiffreAffine(mot,a,b):\n",
        "    # a * mot + b\n",
        "\n",
        "    res = \"\"\n",
        "    for c in mot :\n",
        "        res += decode((a * code(c) + b)%26)\n",
        "    return res"
      ]
    },
    {
      "cell_type": "markdown",
      "id": "86a9cb34",
      "metadata": {
        "id": "86a9cb34"
      },
      "source": [
        "Tester votre fonction à l'aide du bloc suivant."
      ]
    },
    {
      "cell_type": "code",
      "execution_count": 32,
      "id": "f793d551",
      "metadata": {
        "id": "f793d551"
      },
      "outputs": [
        {
          "name": "stdout",
          "output_type": "stream",
          "text": [
            "*** CHIFFREMENT ***\n",
            "Le texte ' bonjour ' chiffré avec le chiffrement affine de clé ( 3 , 7 ) est :  kxuixpg\n"
          ]
        }
      ],
      "source": [
        "print(\"*** CHIFFREMENT ***\")\n",
        "txt = \"bonjour\"\n",
        "cle_a = 3\n",
        "cle_b = 7\n",
        "texte_chiffre = chiffreAffine(txt,cle_a,cle_b)\n",
        "print(\"Le texte '\",txt,\"' chiffré avec le chiffrement affine de clé (\",cle_a,\",\",cle_b,\") est : \",texte_chiffre)"
      ]
    },
    {
      "cell_type": "markdown",
      "id": "55cc7716",
      "metadata": {
        "id": "55cc7716"
      },
      "source": [
        "Pour déchiffrer, nous avons besoin d'inverser la fonction $f_{a,b}$, c'est-à-dire de pouvoir trouver pour chaque $y\\in\\mathbb{Z}/26\\mathbb{Z}$ un unique $x\\in\\mathbb{Z}/26\\mathbb{Z}$ tel que $ax+b \\equiv y \\pmod{26}$.<br>\n",
        "Malheureusement, ceci n'est pas toujours possible !<br>\n",
        "<b>Question : </b>Trouver à quelle condition sur $a$ il est possible d'écrire une fonction de déchiffrement et indiquer alors quelle fonction permet de calculer $x$ en fonction de $y$."
      ]
    },
    {
      "cell_type": "markdown",
      "id": "a7130b77",
      "metadata": {
        "id": "a7130b77"
      },
      "source": [
        "<div style=\"background-color:rgba(0, 255, 0, 0.19);padding:3%;\">\n",
        "<b>Réponse : </b> !! Écrire votre réponse ici en éditant le bloc !!\n",
        "</div>"
      ]
    },
    {
      "cell_type": "markdown",
      "id": "fb484c82",
      "metadata": {
        "id": "fb484c82"
      },
      "source": [
        "Sur papier, déchiffrer le mot \"wvspayinlc\", sachant qu'il a été chiffré en utilisant le chiffrement affine de clé $(5,8)$. Indiquer votre réponse en éditant puis exécutant le bloc suivant."
      ]
    },
    {
      "cell_type": "markdown",
      "id": "df880f76",
      "metadata": {
        "id": "df880f76"
      },
      "source": [
        "<div style=\"background-color:rgba(0, 255, 0, 0.19);padding:3%;\">\n",
        "<b>Réponse : </b> Le texte \"wvspayinlc\" déchiffré avec le chiffrement affine de clé (5,8) est __\n",
        "</div>"
      ]
    },
    {
      "cell_type": "markdown",
      "id": "c8cb6b67",
      "metadata": {
        "id": "c8cb6b67"
      },
      "source": [
        "Écrire la fonction <code>dechiffreAffine(mot,a,b)</code> qui permet de déchiffrer un mot qui a été chiffré avec la clé <code>(a,b)</code>. Si ce n'est pas possible, afficher un message expliquant que la clé n'est pas une clé de chiffrement affine autorisée et retourner une chaîne vide."
      ]
    },
    {
      "cell_type": "code",
      "execution_count": null,
      "id": "2f7d9f81",
      "metadata": {
        "id": "2f7d9f81"
      },
      "outputs": [],
      "source": [
        "def dechiffreAffine(mot,a,b):\n",
        "    # à compléter"
      ]
    },
    {
      "cell_type": "markdown",
      "id": "a17feb49",
      "metadata": {
        "id": "a17feb49"
      },
      "source": [
        "Tester votre fonction à l'aide du bloc de code suivant."
      ]
    },
    {
      "cell_type": "code",
      "execution_count": null,
      "id": "ce10852d",
      "metadata": {
        "id": "ce10852d"
      },
      "outputs": [],
      "source": [
        "print(\"*** DECHIFFREMENT ***\")\n",
        "txt = \"wvspayinlc\"\n",
        "cle_a = 5\n",
        "cle_b = 8\n",
        "texte_clair = dechiffreAffine(txt,cle_a,cle_b)\n",
        "print(\"Le texte '\",txt,\"' chiffré avec le chiffrement affine de clé (\",cle_a,\",\",cle_b,\") est : \",texte_clair)"
      ]
    },
    {
      "cell_type": "markdown",
      "id": "ba730d1a",
      "metadata": {
        "id": "ba730d1a"
      },
      "source": [
        "<b>Un peu de cryptanalyse. </b> Écrire la fonction <code>decrypteAffine(mot)</code> qui affiche toutes les possibilités de chiffrement de <code>mot</code> par brute force."
      ]
    },
    {
      "cell_type": "code",
      "execution_count": null,
      "id": "f4a71331",
      "metadata": {
        "id": "f4a71331"
      },
      "outputs": [],
      "source": [
        "def decrypteAffine(mot):\n",
        "    # à compléter"
      ]
    },
    {
      "cell_type": "markdown",
      "id": "50e82caa",
      "metadata": {
        "id": "50e82caa"
      },
      "source": [
        "Dans le bloc suivant, utilisez la fonction <code>decrypteCesar(mot)</code> pour décrypter le texte <b>YZDGRKKMZJZUIHKKRUZZXIJRZTAJHRXRYZXIZUDFMZKHDRYZHHIIHBTZMZUSMTIZKFMDZ</b>"
      ]
    },
    {
      "cell_type": "code",
      "execution_count": null,
      "id": "2c5ed9bf",
      "metadata": {
        "id": "2c5ed9bf"
      },
      "outputs": [],
      "source": [
        "decrypteAffine(\"YZDGRKKMZJZUIHKKRUZZXIJRZTAJHRXRYZXIZUDFMZKHDRYZHHIIHBTZMZUSMTIZKFMDZ\")"
      ]
    },
    {
      "cell_type": "markdown",
      "id": "b31eaa30",
      "metadata": {
        "id": "b31eaa30"
      },
      "source": [
        "<b> Question : </b>Combien de résultats différents obtient-on ? Retrouver la clé et le texte décrypté."
      ]
    },
    {
      "cell_type": "markdown",
      "id": "ffee1862",
      "metadata": {
        "id": "ffee1862"
      },
      "source": [
        "<div style=\"background-color:rgba(0, 255, 0, 0.19);padding:3%;\">\n",
        "<b>Réponse : </b> Il y a __ résultats à analyser. La clé est __ et le texte décrypté est __\n",
        "</div>"
      ]
    }
  ],
  "metadata": {
    "colab": {
      "include_colab_link": true,
      "provenance": []
    },
    "kernelspec": {
      "display_name": "Python 3 (ipykernel)",
      "language": "python",
      "name": "python3"
    },
    "language_info": {
      "codemirror_mode": {
        "name": "ipython",
        "version": 3
      },
      "file_extension": ".py",
      "mimetype": "text/x-python",
      "name": "python",
      "nbconvert_exporter": "python",
      "pygments_lexer": "ipython3",
      "version": "3.10.6"
    }
  },
  "nbformat": 4,
  "nbformat_minor": 5
}
