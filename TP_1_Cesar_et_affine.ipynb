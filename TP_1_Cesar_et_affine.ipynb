{
  "cells": [
    {
      "cell_type": "markdown",
      "metadata": {
        "colab_type": "text",
        "id": "view-in-github"
      },
      "source": [
        "<a href=\"https://colab.research.google.com/github/Dec-35/mathsDecryptage/blob/main/TP_1_Cesar_et_affine.ipynb\" target=\"_parent\"><img src=\"https://colab.research.google.com/assets/colab-badge.svg\" alt=\"Open In Colab\"/></a>"
      ]
    },
    {
      "cell_type": "markdown",
      "id": "ca99b371",
      "metadata": {
        "id": "ca99b371"
      },
      "source": [
        "# TP 1 - Chiffrement symétrique (1)"
      ]
    },
    {
      "cell_type": "markdown",
      "id": "76e35ec2",
      "metadata": {
        "id": "76e35ec2"
      },
      "source": [
        "La <b>cryptographie</b> est un ensemble de techniques permettant de transformer un <i>message clair</i> en <i>message chiffré</i> qui ne peut pas être déchiffré sans la connaissance d'une clé secrète.\n",
        "\n",
        "Nous allons commencer l'étude de différents algortihmes de chiffrement par les algorithmes de chiffrement <b>symétrique</b>. Le principe général de ces algorithmes est basé sur le partage d'une unique clé secrète entre l'expéditeur et le destinataire. Cette clé va servir à chiffrer un message mais aussi à le déchiffrer, il est donc indispensable qu'elle ne soit pas divulguée."
      ]
    },
    {
      "cell_type": "markdown",
      "id": "0561fa86",
      "metadata": {
        "id": "0561fa86"
      },
      "source": [
        "### IMPORTANT :"
      ]
    },
    {
      "cell_type": "markdown",
      "id": "590495cb",
      "metadata": {
        "id": "590495cb"
      },
      "source": [
        "Avant de commencer le TP, nous allons charger les différentes fonctions que vous avez écrites lors du TP1 - Arithmétique pour la cryptographie, et qui nous serons utile. Pour celà, il vous suffit de créer un fichier intitulé <code>OutilsCrypto.py</code>, d'y coller le code des différentes fonctions du TP1, de le sauvegarder au même endroit que ce TP, et de le charger en exécutant le bloc suivant."
      ]
    },
    {
      "cell_type": "code",
      "execution_count": 1,
      "id": "53ZiT7rT4JEK",
      "metadata": {
        "colab": {
          "base_uri": "https://localhost:8080/"
        },
        "id": "53ZiT7rT4JEK",
        "outputId": "2260b2f9-a4a2-47de-c682-46c88c44f87a"
      },
      "outputs": [
        {
          "ename": "ModuleNotFoundError",
          "evalue": "No module named 'google'",
          "output_type": "error",
          "traceback": [
            "\u001b[0;31m---------------------------------------------------------------------------\u001b[0m",
            "\u001b[0;31mModuleNotFoundError\u001b[0m                       Traceback (most recent call last)",
            "\u001b[1;32m/Users/dec/Codage/maths/mathsDecryptage-1/TP_1_Cesar_et_affine.ipynb Cell 6\u001b[0m line \u001b[0;36m1\n\u001b[0;32m----> <a href='vscode-notebook-cell:/Users/dec/Codage/maths/mathsDecryptage-1/TP_1_Cesar_et_affine.ipynb#W5sZmlsZQ%3D%3D?line=0'>1</a>\u001b[0m \u001b[39mfrom\u001b[39;00m \u001b[39mgoogle\u001b[39;00m\u001b[39m.\u001b[39;00m\u001b[39mcolab\u001b[39;00m \u001b[39mimport\u001b[39;00m drive\n\u001b[1;32m      <a href='vscode-notebook-cell:/Users/dec/Codage/maths/mathsDecryptage-1/TP_1_Cesar_et_affine.ipynb#W5sZmlsZQ%3D%3D?line=1'>2</a>\u001b[0m drive\u001b[39m.\u001b[39mmount(\u001b[39m'\u001b[39m\u001b[39m/content/drive\u001b[39m\u001b[39m'\u001b[39m)\n\u001b[1;32m      <a href='vscode-notebook-cell:/Users/dec/Codage/maths/mathsDecryptage-1/TP_1_Cesar_et_affine.ipynb#W5sZmlsZQ%3D%3D?line=2'>3</a>\u001b[0m \u001b[39mimport\u001b[39;00m \u001b[39msys\u001b[39;00m\n",
            "\u001b[0;31mModuleNotFoundError\u001b[0m: No module named 'google'"
          ]
        }
      ],
      "source": [
        "from google.colab import drive\n",
        "drive.mount('/content/drive')\n",
        "import sys\n",
        "sys.path.append('/content/drive/MyDrive/Colab Notebooks/BUT 2/R3.09 - Crypto')"
      ]
    },
    {
      "cell_type": "code",
      "execution_count": 2,
      "id": "bb256d1d",
      "metadata": {
        "id": "bb256d1d"
      },
      "outputs": [],
      "source": [
        "from OutilsCrypto import *"
      ]
    },
    {
      "cell_type": "markdown",
      "id": "1776a22b",
      "metadata": {
        "id": "1776a22b"
      },
      "source": [
        "À la fin de chaque TP, vous pourrez compléter le fichier <code>OutilsCrypto.py</code> en y ajoutant les nouvelles fonctions écrites."
      ]
    },
    {
      "cell_type": "markdown",
      "id": "ccf95f53",
      "metadata": {
        "id": "ccf95f53"
      },
      "source": [
        "## 1. Préparation du texte à chiffrer\n",
        "Pour chiffrer un message, quel que soit l'algorithme choisi, il faut souvent commencer par le transformer pour pouvoir lui appliquer des opérations mathématiques.<br>"
      ]
    },
    {
      "cell_type": "markdown",
      "id": "dc5355d9",
      "metadata": {
        "id": "dc5355d9"
      },
      "source": [
        "### 1.1 Filtre : enlever les caractères spéciaux"
      ]
    },
    {
      "cell_type": "markdown",
      "id": "cfbf9ab2",
      "metadata": {
        "id": "cfbf9ab2"
      },
      "source": [
        "La première étape consiste en général à <i>nettoyer</i> le texte en se débarrassant des accents, des signes de ponctuation, des caractères spéciaux, etc."
      ]
    },
    {
      "cell_type": "markdown",
      "id": "ea365425",
      "metadata": {
        "id": "ea365425"
      },
      "source": [
        "<b> Exercice 1.</b> Écrire la fonction <code>Filtre(txt)</code> permettant de gérer cet aspect. Elle doit transformer n'importe quelle chaîne de caractères en une chaîne en minuscule ne contenant que les lettres de l'alphabet non accentuées.<br>\n",
        "Par exemple, \"Bonjour, ça va ?\" doit devenir : \"bonjourcava\"<br>\n",
        "<i>Indication :</i> Vous pourrez utiliser la fonction <code>.lower()</code> ainsi que la fonction <code>ord()</code>."
      ]
    },
    {
      "cell_type": "code",
      "execution_count": 3,
      "id": "26aa0055",
      "metadata": {
        "id": "26aa0055"
      },
      "outputs": [],
      "source": [
        "def Filtre(txt) :\n",
        "    res=\"\"\n",
        "    for c in txt.lower() :\n",
        "        if(ord('a')<=ord(c)<=ord('z')) : res+=c\n",
        "        if(c=='à' or c=='â' or c=='ä' or c=='á' or c=='å') : res+='a'\n",
        "        elif(c=='ç') : res+='c'\n",
        "        elif(c=='é' or c=='è' or c=='ê' or c=='ë') : res+='e'\n",
        "        elif(c=='ï' or c=='î' or c=='ì' or c=='í') : res+='i'\n",
        "        elif(c=='ö' or c=='ò' or c=='ô' or c=='ø' or c=='ó') : res+='o'\n",
        "        elif(c=='û' or c=='ü' or c=='ù' or c=='ú') : res+='u'\n",
        "        elif(c=='æ') : res+='ae'\n",
        "        elif(c=='œ') : res+='oe'\n",
        "        elif(c=='ÿ') : res+='y'\n",
        "        elif(c=='ñ') : res+='n'\n",
        "        elif(c=='ß') : res+='ss'\n",
        "    return res"
      ]
    },
    {
      "cell_type": "markdown",
      "id": "e4ceeea3",
      "metadata": {
        "id": "e4ceeea3"
      },
      "source": [
        "Tester votre fonction à l'aide du bloc suivant."
      ]
    },
    {
      "cell_type": "code",
      "execution_count": 4,
      "id": "ed684773",
      "metadata": {
        "colab": {
          "base_uri": "https://localhost:8080/",
          "height": 54
        },
        "id": "ed684773",
        "outputId": "681b9453-e2f7-44c6-f6f7-c61dd4130a84"
      },
      "outputs": [
        {
          "data": {
            "text/plain": [
              "'rien'"
            ]
          },
          "execution_count": 4,
          "metadata": {},
          "output_type": "execute_result"
        }
      ],
      "source": [
        "txt = input(\"texte = \")\n",
        "Filtre(txt)"
      ]
    },
    {
      "cell_type": "markdown",
      "id": "a38f035e",
      "metadata": {
        "id": "a38f035e"
      },
      "source": [
        "### 1.2 Codage et décodage d'un caractère en nombre"
      ]
    },
    {
      "cell_type": "markdown",
      "id": "5ed729a5",
      "metadata": {
        "id": "5ed729a5"
      },
      "source": [
        "L'étape suivante consiste à écrire une fonction <code>code(c)</code> qui associe un nombre à chaque lettre <code>c</code> afin de pouvoir appliquer des opérations mathématiques. Nous utiliserons ici le procédé le plus simple qui consiste à associer <b>0</b> à <b>a</b>, <b>1</b> à <b>b</b>, ... , <b>25</b> à <b>z</b>.<br>\n",
        "Nous utliserons également la fonction inverse <code>decode(n)</code> qui consistera à retrouver une lettre à partir du nombre qui lui est associé."
      ]
    },
    {
      "cell_type": "markdown",
      "id": "ddf7c106",
      "metadata": {
        "id": "ddf7c106"
      },
      "source": [
        "<b> Exercice 2.</b> Écrire la fonction <code>code(c)</code> qui prend en paramètre un caractère <code>c</code> et qui renvoie le nombre associé. Elle doit envoyer $-1$ si $c$ n'est pas un caractère autorisé (i.e. une lettre non accentuée entre a et z)"
      ]
    },
    {
      "cell_type": "code",
      "execution_count": 6,
      "id": "11280987",
      "metadata": {
        "id": "11280987"
      },
      "outputs": [],
      "source": [
        "#Code erreur : -1\n",
        "def code(c) :\n",
        "    res = \"\"\n",
        "    res = Filtre(c)\n",
        "    if res == \"\" :\n",
        "      return -1\n",
        "\n",
        "    return ord(res) -  97 #décalage unicode"
      ]
    },
    {
      "cell_type": "markdown",
      "id": "8c897bf5",
      "metadata": {
        "id": "8c897bf5"
      },
      "source": [
        "<b> Exercice 3.</b> Écrire la fonction <code>decode(n)</code> qui prend en paramètre un entier <code>n</code> et qui renvoie le caractère associé. Elle doit envoyer \"?\" si $n$ n'est pas un nombre autorisé (i.e. un nombre $0\\leq n\\leq 25$)"
      ]
    },
    {
      "cell_type": "code",
      "execution_count": 7,
      "id": "cac27eb0",
      "metadata": {
        "id": "cac27eb0"
      },
      "outputs": [],
      "source": [
        "#Code erreur : '?'\n",
        "def decode(n) :\n",
        "    # à compléter\n",
        "    if(0 <= n <= 25) :\n",
        "      n = n + 97\n",
        "      return chr(n)\n",
        "    return '?'"
      ]
    },
    {
      "cell_type": "markdown",
      "id": "a3b61165",
      "metadata": {
        "id": "a3b61165"
      },
      "source": [
        "Tester ces fonctions à l'aide du bloc de code suivant."
      ]
    },
    {
      "cell_type": "code",
      "execution_count": 8,
      "id": "34ed7179",
      "metadata": {
        "colab": {
          "base_uri": "https://localhost:8080/"
        },
        "id": "34ed7179",
        "outputId": "0367963f-5270-4ea9-88d1-315c9c862320"
      },
      "outputs": [
        {
          "name": "stdout",
          "output_type": "stream",
          "text": [
            "0\n",
            "7\n",
            "-1\n",
            "a\n",
            "f\n",
            "?\n"
          ]
        }
      ],
      "source": [
        "print(code(\"a\")) # on attend 0\n",
        "print(code(\"h\")) # on attend 7\n",
        "print(code(\"!\")) # on attend -1\n",
        "print(decode(0)) # on attend a\n",
        "print(decode(5)) # on attend f\n",
        "print(decode(-1)) # on attend ?"
      ]
    },
    {
      "cell_type": "markdown",
      "id": "2d21766e",
      "metadata": {
        "id": "2d21766e"
      },
      "source": [
        "## 2. Chiffrement de César"
      ]
    },
    {
      "cell_type": "markdown",
      "id": "2ea503b3",
      "metadata": {
        "id": "2ea503b3"
      },
      "source": [
        "Le chiffrement de César, appelé aussi chiffrement à décalage, consiste à décaler chaque lettre du message de $k$ lettres. Ainsi, si on choisit $k=3$ par exemple, <b>a</b> devient <b>d</b>, <b>b</b> devient <b>e</b>, etc. Quand on arrive à la fin de l'alphabet, on repart du début : <b>x</b> devient <b>a</b>, <b>y</b> devient <b>b</b> et <b>z</b> devient <b>c</b>.<br>\n",
        "Cette opération de décalage s'exprime très bien sur les nombres associés aux lettres par le procédé de codage détaillé ci-dessus.<br>\n",
        "$$\n",
        "\\begin{array}{rccc}\n",
        "f_k\\ :\\ & \\mathbb{Z}/26\\mathbb{Z} & \\longrightarrow & \\mathbb{Z}/26\\mathbb{Z}\\\\\n",
        "& x & \\longmapsto & x+k\n",
        "\\end{array}\n",
        "$$\n",
        "En effet, si on part de la lettre <b>z</b>, elle est codée par 25, on calcule $$f_3(25) \\equiv 25+3 \\equiv 28 \\equiv 2 \\pmod{26}$$ et 2 est décodé en <b>c</b>."
      ]
    },
    {
      "cell_type": "markdown",
      "id": "3ef6c3b1",
      "metadata": {
        "id": "3ef6c3b1"
      },
      "source": [
        "<b> Exercice 4.</b> Sur papier, chiffrer le mot \"bonjour\" en utilisant le chiffrement de César avec la clé 3. Indiquer votre réponse en éditant puis exécutant le bloc suivant."
      ]
    },
    {
      "cell_type": "markdown",
      "id": "a06e83f6",
      "metadata": {
        "id": "a06e83f6"
      },
      "source": [
        "<div style=\"background-color:rgba(0, 255, 0, 0.19);padding:3%;\">\n",
        "<b>Réponse : </b> Le texte \"bonjour\" chiffré avec le chiffrement de César de clé 3 est <b>erqmrxu</b>\n",
        "</div>"
      ]
    },
    {
      "cell_type": "markdown",
      "id": "965294a0",
      "metadata": {
        "id": "965294a0"
      },
      "source": [
        "Écrire la fonction <code>chiffreCesar(mot,cle)</code> qui a deux paramètres obligatoires :\n",
        "<ul>\n",
        "    <li><code>mot</code> : une chaîne de caractères</li>\n",
        "    <li><code>cle</code> : un entier</li>\n",
        "</ul>\n",
        "Cette fonction renvoie une chaîne de caractères correspondant au chiffrement de César de <code>mot</code> avec la clé <code>cle</code>.<br>\n",
        "\n",
        "La fonction renvoie la chaine vide (ie $\\texttt{\"\"}$) en cas d'erreur.\n",
        "</p>"
      ]
    },
    {
      "cell_type": "code",
      "execution_count": 9,
      "id": "e776df63",
      "metadata": {
        "id": "e776df63"
      },
      "outputs": [],
      "source": [
        "def chiffreCesar(mot,k):\n",
        "    res = \"\"\n",
        "    for c in mot :\n",
        "        res += decode((code(c)+k)%26)\n",
        "    return res"
      ]
    },
    {
      "cell_type": "markdown",
      "id": "04be45e9",
      "metadata": {
        "id": "04be45e9"
      },
      "source": [
        "Tester votre fonction à l'aide du bloc de code suivant."
      ]
    },
    {
      "cell_type": "code",
      "execution_count": 10,
      "id": "618d6c00",
      "metadata": {
        "id": "618d6c00"
      },
      "outputs": [
        {
          "name": "stdout",
          "output_type": "stream",
          "text": [
            "*** CHIFFREMENT ***\n",
            "Le texte ' bonjour ' chiffré avec le chiffrement de César de clé 3  est :  erqmrxu\n"
          ]
        }
      ],
      "source": [
        "print(\"*** CHIFFREMENT ***\")\n",
        "txt = \"bonjour\"\n",
        "cle = 3\n",
        "texte_chiffre = chiffreCesar(txt,cle)\n",
        "print(\"Le texte '\",txt,\"' chiffré avec le chiffrement de César de clé\",cle,\" est : \",texte_chiffre)"
      ]
    },
    {
      "cell_type": "markdown",
      "id": "12f17b63",
      "metadata": {
        "id": "12f17b63"
      },
      "source": [
        "Sur papier, déchiffrer le mot \"hbylcvpy\" en sachant qu'il a été chiffré à l'aide du chiffrement de César avec la clé 7. Indiquer votre réponse en éditant puis exécutant le bloc suivant."
      ]
    },
    {
      "cell_type": "markdown",
      "id": "9019d9be",
      "metadata": {
        "id": "9019d9be"
      },
      "source": [
        "<div style=\"background-color:rgba(0, 255, 0, 0.19);padding:3%;\">\n",
        "<b>Réponse : </b> Le texte \"hbylcvpy\" déchiffré avec le chiffrement de César de clé 7 est <b>aurevoir</b>\n",
        "</div>"
      ]
    },
    {
      "cell_type": "markdown",
      "id": "ca724825",
      "metadata": {
        "id": "ca724825"
      },
      "source": [
        "Écrire la fonction <code>dechiffreCesar(mot,cle)</code> qui permet de déchiffrer un <code>mot</code> qui a été chiffré avec la clé <code>clé</code>."
      ]
    },
    {
      "cell_type": "code",
      "execution_count": 11,
      "id": "66b828c6",
      "metadata": {
        "id": "66b828c6"
      },
      "outputs": [],
      "source": [
        "def dechiffreCesar(mot,k):\n",
        "    res = \"\"\n",
        "    for c in mot :\n",
        "        res += decode((code(c)-k)%26)\n",
        "    return res"
      ]
    },
    {
      "cell_type": "markdown",
      "id": "269d1a90",
      "metadata": {
        "id": "269d1a90"
      },
      "source": [
        "Tester votre fonction à l'aide du bloc de code suivant."
      ]
    },
    {
      "cell_type": "code",
      "execution_count": 12,
      "id": "39471479",
      "metadata": {
        "id": "39471479"
      },
      "outputs": [
        {
          "name": "stdout",
          "output_type": "stream",
          "text": [
            "*** DECHIFFREMENT ***\n",
            "Le texte ' hbylcvpy ' déchiffré avec le chiffrement de César de clé 7  est :  aurevoir\n"
          ]
        }
      ],
      "source": [
        "print(\"*** DECHIFFREMENT ***\")\n",
        "txt = \"hbylcvpy\"\n",
        "cle = 7\n",
        "texte_clair = dechiffreCesar(txt,cle)\n",
        "print(\"Le texte '\",txt,\"' déchiffré avec le chiffrement de César de clé\",cle,\" est : \",texte_clair)"
      ]
    },
    {
      "cell_type": "markdown",
      "id": "fd99c5cb",
      "metadata": {
        "id": "fd99c5cb"
      },
      "source": [
        "<b>Un peu de cryptanalyse. </b> Écrire la fonction <code>decrypteCesar(mot)</code> qui affiche toutes les possibilités de déchiffrement de <code>mot</code> par brute force."
      ]
    },
    {
      "cell_type": "code",
      "execution_count": 23,
      "id": "adc01417",
      "metadata": {
        "id": "adc01417"
      },
      "outputs": [],
      "source": [
        "def decrypteCesar(mot):\n",
        "    for i in range(26) :\n",
        "        for c in mot :\n",
        "            print(decode((code(c)-i)%26), end=\"\")\n",
        "        print(' avec la clé', i)"
      ]
    },
    {
      "cell_type": "markdown",
      "id": "b386ab24",
      "metadata": {
        "id": "b386ab24"
      },
      "source": [
        "Dans le bloc suivant, utilisez la fonction <code>decrypteCesar(mot)</code> pour décrypter le texte <b>prfgdhnaqzrzrcnfgreevoyryrpuvsserzragqrprfne</b>"
      ]
    },
    {
      "cell_type": "code",
      "execution_count": 24,
      "id": "425fb4da",
      "metadata": {
        "id": "425fb4da",
        "scrolled": true
      },
      "outputs": [
        {
          "name": "stdout",
          "output_type": "stream",
          "text": [
            "prfgdhnaqzrzrcnfgreevoyryrpuvsserzragqrprfne avec la clé 0\n",
            "oqefcgmzpyqyqbmefqddunxqxqoturrdqyqzfpqoqemd avec la clé 1\n",
            "npdebflyoxpxpaldepcctmwpwpnstqqcpxpyeopnpdlc avec la clé 2\n",
            "mocdaekxnwowozkcdobbslvovomrsppbowoxdnomockb avec la clé 3\n",
            "lnbczdjwmvnvnyjbcnaarkununlqrooanvnwcmnlnbja avec la clé 4\n",
            "kmabycivlumumxiabmzzqjtmtmkpqnnzmumvblmkmaiz avec la clé 5\n",
            "jlzaxbhuktltlwhzalyypislsljopmmyltluakljlzhy avec la clé 6\n",
            "ikyzwagtjskskvgyzkxxohrkrkinollxksktzjkikygx avec la clé 7\n",
            "hjxyvzfsirjrjufxyjwwngqjqjhmnkkwjrjsyijhjxfw avec la clé 8\n",
            "giwxuyerhqiqitewxivvmfpipiglmjjviqirxhigiwev avec la clé 9\n",
            "fhvwtxdqgphphsdvwhuuleohohfkliiuhphqwghfhvdu avec la clé 10\n",
            "eguvswcpfogogrcuvgttkdngngejkhhtgogpvfgeguct avec la clé 11\n",
            "dfturvboenfnfqbtufssjcmfmfdijggsfnfouefdftbs avec la clé 12\n",
            "cestquandmemepasterriblelechiffrementdecesar avec la clé 13\n",
            "bdrsptzmcldldozrsdqqhakdkdbgheeqdldmscdbdrzq avec la clé 14\n",
            "acqrosylbkckcnyqrcppgzjcjcafgddpckclrbcacqyp avec la clé 15\n",
            "zbpqnrxkajbjbmxpqboofyibibzefccobjbkqabzbpxo avec la clé 16\n",
            "yaopmqwjziaialwopannexhahaydebbnaiajpzayaown avec la clé 17\n",
            "xznolpviyhzhzkvnozmmdwgzgzxcdaamzhzioyzxznvm avec la clé 18\n",
            "wymnkouhxgygyjumnyllcvfyfywbczzlygyhnxywymul avec la clé 19\n",
            "vxlmjntgwfxfxitlmxkkbuexexvabyykxfxgmwxvxltk avec la clé 20\n",
            "uwklimsfvewewhsklwjjatdwdwuzaxxjwewflvwuwksj avec la clé 21\n",
            "tvjkhlreudvdvgrjkviizscvcvtyzwwivdvekuvtvjri avec la clé 22\n",
            "suijgkqdtcucufqijuhhyrbubusxyvvhucudjtusuiqh avec la clé 23\n",
            "rthifjpcsbtbtephitggxqatatrwxuugtbtcistrthpg avec la clé 24\n",
            "qsgheiobrasasdoghsffwpzszsqvwttfsasbhrsqsgof avec la clé 25\n"
          ]
        }
      ],
      "source": [
        "decrypteCesar(\"prfgdhnaqzrzrcnfgreevoyryrpuvsserzragqrprfne\")"
      ]
    },
    {
      "cell_type": "markdown",
      "id": "a3da8b62",
      "metadata": {
        "id": "a3da8b62"
      },
      "source": [
        "<b> Question : </b>Combien de résultats différents obtient-on ? Retrouver la clé et le texte décrypté."
      ]
    },
    {
      "cell_type": "markdown",
      "id": "24b53f5c",
      "metadata": {
        "id": "24b53f5c"
      },
      "source": [
        "<div style=\"background-color:rgba(0, 255, 0, 0.19);padding:3%;\">\n",
        "<b>Réponse : </b> Il y a <b>26</b> résultats à analyser. La clé est <b>13</b> et le texte décrypté est <b>cestquandmemepasterriblelechiffrementdecesar</b>\n",
        "</div>"
      ]
    },
    {
      "cell_type": "markdown",
      "id": "bc93e6be",
      "metadata": {
        "id": "bc93e6be"
      },
      "source": [
        "## 3. Chiffrement affine"
      ]
    },
    {
      "cell_type": "markdown",
      "id": "af1007e0",
      "metadata": {
        "id": "af1007e0"
      },
      "source": [
        "Le chiffrement affine est une modification de l'algorithme de César qui consiste à choisr comme clé un couple d'entiers $(a,b)$ et à appliquer à chaque nombre $x$ codant un caractère $c$ la transformation affine $ax+b \\pmod{26}$.<br>\n",
        "$$\n",
        "\\begin{array}{rccc}\n",
        "f_{a,b}\\ :\\ & \\mathbb{Z}/26\\mathbb{Z} & \\longrightarrow & \\mathbb{Z}/26\\mathbb{Z}\\\\\n",
        "& x & \\longmapsto & ax+b\n",
        "\\end{array}\n",
        "$$\n",
        "Par exemple, avec la clé $(3,7)$ si on part de la lettre <b>z</b>, elle est codée par 25, on calcule $$f_{3,7}(25) \\equiv 3*25+7 \\equiv 82 \\equiv 4 \\pmod{26}$$ et 4 est décodé en <b>e</b>."
      ]
    },
    {
      "cell_type": "markdown",
      "id": "0ad83f6a",
      "metadata": {
        "id": "0ad83f6a"
      },
      "source": [
        "<b> Exercice 5.</b> Sur papier, chiffrer le mot \"bonjour\" en utilisant le chiffrement affine de clé $(3,7)$. Indiquer votre réponse en éditant puis exécutant le bloc suivant."
      ]
    },
    {
      "cell_type": "markdown",
      "id": "8c0e3e81",
      "metadata": {
        "id": "8c0e3e81"
      },
      "source": [
        "<div style=\"background-color:rgba(0, 255, 0, 0.19);padding:3%;\">\n",
        "<b>Réponse : </b> Le texte \"bonjour\" chiffré avec le chiffrement affine de clé $(3,7)$ est <b>kxuixpg</b>\n",
        "</div>"
      ]
    },
    {
      "cell_type": "markdown",
      "id": "ecceedbd",
      "metadata": {
        "id": "ecceedbd"
      },
      "source": [
        "Écrire la fonction <code>chiffreAffine(mot,a,b)</code> qui a deux paramètres obligatoires :\n",
        "<ul>\n",
        "    <li><code>mot</code> : une chaîne de caractères</li>\n",
        "    <li><code>a,b</code> : 2 entiers</li>\n",
        "</ul>\n",
        "Cette fonction renvoie une chaîne de caractères correspondant au chiffrement affine de <code>mot</code> avec la clé <code>(a,b)</code>.<br>\n",
        "\n",
        "La fonction renvoie la chaine vide (ie $\\texttt{\"\"}$) en cas d'erreur.\n",
        "</p>"
      ]
    },
    {
      "cell_type": "code",
      "execution_count": 30,
      "id": "54c32fc3",
      "metadata": {
        "id": "54c32fc3"
      },
      "outputs": [],
      "source": [
        "def chiffreAffine(mot,a,b):\n",
        "    # a * mot + b\n",
        "\n",
        "    res = \"\"\n",
        "    for c in mot :\n",
        "        res += decode((a * code(c) + b)%26)\n",
        "    return res"
      ]
    },
    {
      "cell_type": "markdown",
      "id": "86a9cb34",
      "metadata": {
        "id": "86a9cb34"
      },
      "source": [
        "Tester votre fonction à l'aide du bloc suivant."
      ]
    },
    {
      "cell_type": "code",
      "execution_count": 32,
      "id": "f793d551",
      "metadata": {
        "id": "f793d551"
      },
      "outputs": [
        {
          "name": "stdout",
          "output_type": "stream",
          "text": [
            "*** CHIFFREMENT ***\n",
            "Le texte ' bonjour ' chiffré avec le chiffrement affine de clé ( 3 , 7 ) est :  kxuixpg\n"
          ]
        }
      ],
      "source": [
        "print(\"*** CHIFFREMENT ***\")\n",
        "txt = \"bonjour\"\n",
        "cle_a = 3\n",
        "cle_b = 7\n",
        "texte_chiffre = chiffreAffine(txt,cle_a,cle_b)\n",
        "print(\"Le texte '\",txt,\"' chiffré avec le chiffrement affine de clé (\",cle_a,\",\",cle_b,\") est : \",texte_chiffre)"
      ]
    },
    {
      "cell_type": "markdown",
      "id": "55cc7716",
      "metadata": {
        "id": "55cc7716"
      },
      "source": [
        "Pour déchiffrer, nous avons besoin d'inverser la fonction $f_{a,b}$, c'est-à-dire de pouvoir trouver pour chaque $y\\in\\mathbb{Z}/26\\mathbb{Z}$ un unique $x\\in\\mathbb{Z}/26\\mathbb{Z}$ tel que $ax+b \\equiv y \\pmod{26}$.<br>\n",
        "Malheureusement, ceci n'est pas toujours possible !<br>\n",
        "<b>Question : </b>Trouver à quelle condition sur $a$ il est possible d'écrire une fonction de déchiffrement et indiquer alors quelle fonction permet de calculer $x$ en fonction de $y$."
      ]
    },
    {
      "cell_type": "markdown",
      "id": "a7130b77",
      "metadata": {
        "id": "a7130b77"
      },
      "source": [
        "<div style=\"background-color:rgba(0, 255, 0, 0.19);padding:3%;\">\n",
        "<b>Réponse : </b> Il est possible d'écrire une fonction de déchiffrement si et seulement si <b>a</b> est premier avec 26. Dans ce cas, on peut calculer <b>x</b> en fonction de <b>y</b> en utilisant la fonction <code>invMod(a,26)</code> du TP0.\n",
        "</div>"
      ]
    },
    {
      "cell_type": "markdown",
      "id": "fb484c82",
      "metadata": {
        "id": "fb484c82"
      },
      "source": [
        "Sur papier, déchiffrer le mot \"wvspayinlc\", sachant qu'il a été chiffré en utilisant le chiffrement affine de clé $(5,8)$. Indiquer votre réponse en éditant puis exécutant le bloc suivant."
      ]
    },
    {
      "cell_type": "markdown",
      "id": "df880f76",
      "metadata": {
        "id": "df880f76"
      },
      "source": [
        "<div style=\"background-color:rgba(0, 255, 0, 0.19);padding:3%;\">\n",
        "<b>Réponse : </b> Le texte \"wvspayinlc\" déchiffré avec le chiffrement affine de clé (5,8) est <b>incroyable</b>\n",
        "</div>"
      ]
    },
    {
      "cell_type": "markdown",
      "id": "c8cb6b67",
      "metadata": {
        "id": "c8cb6b67"
      },
      "source": [
        "Écrire la fonction <code>dechiffreAffine(mot,a,b)</code> qui permet de déchiffrer un mot qui a été chiffré avec la clé <code>(a,b)</code>. Si ce n'est pas possible, afficher un message expliquant que la clé n'est pas une clé de chiffrement affine autorisée et retourner une chaîne vide."
      ]
    },
    {
      "cell_type": "code",
      "execution_count": 37,
      "id": "2f7d9f81",
      "metadata": {
        "id": "2f7d9f81"
      },
      "outputs": [],
      "source": [
        "def dechiffreAffine(mot,a,b):\n",
        "    # cas impossible\n",
        "    if invMod(a,26) == -1 :\n",
        "        return \"Impossible\"\n",
        "\n",
        "    res = \"\"\n",
        "    for c in mot :\n",
        "        res += decode((invMod(a,26) * (code(c) - b))%26)\n",
        "    return res"
      ]
    },
    {
      "cell_type": "markdown",
      "id": "a17feb49",
      "metadata": {
        "id": "a17feb49"
      },
      "source": [
        "Tester votre fonction à l'aide du bloc de code suivant."
      ]
    },
    {
      "cell_type": "code",
      "execution_count": 38,
      "id": "ce10852d",
      "metadata": {
        "id": "ce10852d"
      },
      "outputs": [
        {
          "name": "stdout",
          "output_type": "stream",
          "text": [
            "*** DECHIFFREMENT ***\n",
            "Le texte ' wvspayinlc ' chiffré avec le chiffrement affine de clé ( 5 , 8 ) est :  incroyable\n"
          ]
        }
      ],
      "source": [
        "print(\"*** DECHIFFREMENT ***\")\n",
        "txt = \"wvspayinlc\"\n",
        "cle_a = 5\n",
        "cle_b = 8\n",
        "texte_clair = dechiffreAffine(txt,cle_a,cle_b)\n",
        "print(\"Le texte '\",txt,\"' chiffré avec le chiffrement affine de clé (\",cle_a,\",\",cle_b,\") est : \",texte_clair)"
      ]
    },
    {
      "cell_type": "markdown",
      "metadata": {},
      "source": []
    },
    {
      "cell_type": "markdown",
      "id": "ba730d1a",
      "metadata": {
        "id": "ba730d1a"
      },
      "source": [
        "<b>Un peu de cryptanalyse. </b> Écrire la fonction <code>decrypteAffine(mot)</code> qui affiche toutes les possibilités de chiffrement de <code>mot</code> par brute force."
      ]
    },
    {
      "cell_type": "code",
      "execution_count": 49,
      "id": "f4a71331",
      "metadata": {
        "id": "f4a71331"
      },
      "outputs": [],
      "source": [
        "def decrypteAffine(mot):\n",
        "    nbres = 0\n",
        "    for a in range(26):\n",
        "        if invMod(a,26) != -1 :\n",
        "            for b in range(26):\n",
        "                nbres += 1\n",
        "                res = \"\"\n",
        "                for c in mot :\n",
        "                    res += decode((invMod(a,26) * (code(c) - b))%26)\n",
        "                print(res, ' avec le couple ', a,b)\n",
        "    print(nbres , ' résultats')\n",
        "        "
      ]
    },
    {
      "cell_type": "markdown",
      "id": "50e82caa",
      "metadata": {
        "id": "50e82caa"
      },
      "source": [
        "Dans le bloc suivant, utilisez la fonction <code>decrypteCesar(mot)</code> pour décrypter le texte <b>YZDGRKKMZJZUIHKKRUZZXIJRZTAJHRXRYZXIZUDFMZKHDRYZHHIIHBTZMZUSMTIZKFMDZ</b>"
      ]
    },
    {
      "cell_type": "code",
      "execution_count": 50,
      "id": "2c5ed9bf",
      "metadata": {
        "id": "2c5ed9bf"
      },
      "outputs": [
        {
          "name": "stdout",
          "output_type": "stream",
          "text": [
            "0  n'est pas inversible modulo  26\n",
            "yzdgrkkmzjzuihkkruzzxijrztajhrxryzxizudfmzkhdryzhhiihbtzmzusmtizkfmdz  avec le couple  1 0\n",
            "xycfqjjlyiythgjjqtyywhiqyszigqwqxywhytcelyjgcqxygghhgasylytrlshyjelcy  avec le couple  1 1\n",
            "wxbepiikxhxsgfiipsxxvghpxryhfpvpwxvgxsbdkxifbpwxffggfzrxkxsqkrgxidkbx  avec le couple  1 2\n",
            "vwadohhjwgwrfehhorwwufgowqxgeouovwufwracjwheaovweeffeyqwjwrpjqfwhcjaw  avec le couple  1 3\n",
            "uvzcnggivfvqedggnqvvtefnvpwfdntnuvtevqzbivgdznuvddeedxpvivqoipevgbizv  avec le couple  1 4\n",
            "tuybmffhueupdcffmpuusdemuovecmsmtusdupyahufcymtuccddcwouhupnhodufahyu  avec le couple  1 5\n",
            "stxaleegtdtocbeelottrcdltnudblrlstrctoxzgtebxlstbbccbvntgtomgnctezgxt  avec le couple  1 6\n",
            "rswzkddfscsnbaddknssqbcksmtcakqkrsqbsnwyfsdawkrsaabbaumsfsnlfmbsdyfws  avec le couple  1 7\n",
            "qrvyjccerbrmazccjmrrpabjrlsbzjpjqrparmvxerczvjqrzzaaztlrermkelarcxevr  avec le couple  1 8\n",
            "pquxibbdqaqlzybbilqqozaiqkrayioipqozqluwdqbyuipqyyzzyskqdqljdkzqbwduq  avec le couple  1 9\n",
            "optwhaacpzpkyxaahkppnyzhpjqzxhnhopnypktvcpaxthopxxyyxrjpcpkicjypavctp  avec le couple  1 10\n",
            "nosvgzzboyojxwzzgjoomxygoipywgmgnomxojsubozwsgnowwxxwqiobojhbixozubso  avec le couple  1 11\n",
            "mnrufyyanxniwvyyfinnlwxfnhoxvflfmnlwnirtanyvrfmnvvwwvphnanigahwnytarn  avec le couple  1 12\n",
            "lmqtexxzmwmhvuxxehmmkvwemgnwuekelmkvmhqszmxuqelmuuvvuogmzmhfzgvmxszqm  avec le couple  1 13\n",
            "klpsdwwylvlgutwwdglljuvdlfmvtdjdkljulgprylwtpdklttuutnflylgeyfulwrypl  avec le couple  1 14\n",
            "jkorcvvxkukftsvvcfkkituckeluscicjkitkfoqxkvsocjkssttsmekxkfdxetkvqxok  avec le couple  1 15\n",
            "ijnqbuuwjtjesruubejjhstbjdktrbhbijhsjenpwjurnbijrrssrldjwjecwdsjupwnj  avec le couple  1 16\n",
            "himpattvisidrqttadiigrsaicjsqagahigridmovitqmahiqqrrqkcividbvcritovmi  avec le couple  1 17\n",
            "ghlozssuhrhcqpsszchhfqrzhbirpzfzghfqhclnuhsplzghppqqpjbhuhcaubqhsnulh  avec le couple  1 18\n",
            "fgknyrrtgqgbporrybggepqygahqoyeyfgepgbkmtgrokyfgooppoiagtgbztapgrmtkg  avec le couple  1 19\n",
            "efjmxqqsfpfaonqqxaffdopxfzgpnxdxefdofajlsfqnjxefnnoonhzfsfayszofqlsjf  avec le couple  1 20\n",
            "deilwppreoeznmppwzeecnoweyfomwcwdecnezikrepmiwdemmnnmgyerezxrynepkrie  avec le couple  1 21\n",
            "cdhkvooqdndymloovyddbmnvdxenlvbvcdbmdyhjqdolhvcdllmmlfxdqdywqxmdojqhd  avec le couple  1 22\n",
            "bcgjunnpcmcxlknnuxccalmucwdmkuaubcalcxgipcnkgubckkllkewcpcxvpwlcnipgc  avec le couple  1 23\n",
            "abfitmmoblbwkjmmtwbbzkltbvcljtztabzkbwfhobmjftabjjkkjdvbobwuovkbmhofb  avec le couple  1 24\n",
            "zaehsllnakavjillsvaayjksaubkisyszayjavegnalieszaiijjicuanavtnujalgnea  avec le couple  1 25\n",
            "2  n'est pas inversible modulo  26\n",
            "irbcxmmerdryulmmxyrrzudxrpadlxzxirzurybtermlbxirlluuljprerygepurmtebr  avec le couple  3 0\n",
            "zistoddviuiplcddopiiqluoigrucoqoziqlipskvidcsoziccllcagivipxvglidkvsi  avec le couple  3 1\n",
            "qzjkfuumzlzgctuufgzzhclfzxiltfhfqzhczgjbmzutjfqzttcctrxzmzgomxczubmjz  avec le couple  3 2\n",
            "hqabwlldqcqxtkllwxqqytcwqozckwywhqytqxasdqlkawhqkkttkioqdqxfdotqlsdaq  avec le couple  3 3\n",
            "yhrsnccuhthokbccnohhpktnhfqtbnpnyhpkhorjuhcbrnyhbbkkbzfhuhowufkhcjurh  avec le couple  3 4\n",
            "pyijettlykyfbsttefyygbkeywhksegepygbyfialytsiepyssbbsqwylyfnlwbytaliy  avec le couple  3 5\n",
            "gpzavkkcpbpwsjkkvwppxsbvpnybjvxvgpxspwzrcpkjzvgpjjssjhnpcpwecnspkrczp  avec le couple  3 6\n",
            "xgqrmbbtgsgnjabbmnggojsmgepsamomxgojgnqitgbaqmxgaajjayegtgnvtejgbitqg  avec le couple  3 7\n",
            "oxhidsskxjxearssdexxfajdxvgjrdfdoxfaxehzkxsrhdoxrraarpvxkxemkvaxszkhx  avec le couple  3 8\n",
            "foyzujjboaovrijjuvoowrauomxaiuwufowrovyqbojiyufoiirrigmobovdbmrojqbyo  avec le couple  3 9\n",
            "wfpqlaasfrfmizaalmffnirlfdorzlnlwfnifmphsfazplwfzziizxdfsfmusdifahspf  avec le couple  3 10\n",
            "nwghcrrjwiwdzqrrcdwwezicwufiqcecnwezwdgyjwrqgcnwqqzzqouwjwdljuzwryjgw  avec le couple  3 11\n",
            "enxytiianznuqhiitunnvqztnlwzhtvtenvqnuxpanihxtenhhqqhflnanucalqnipaxn  avec le couple  3 12\n",
            "veopkzzreqelhyzzkleemhqkecnqykmkvemhelogrezyokveyyhhywcereltrchezgroe  avec le couple  3 13\n",
            "mvfgbqqivhvcypqqbcvvdyhbvtehpbdbmvdyvcfxivqpfbmvppyypntvivckityvqxifv  avec le couple  3 14\n",
            "dmwxshhzmymtpghhstmmupysmkvygsusdmupmtwozmhgwsdmggppgekmzmtbzkpmhozwm  avec le couple  3 15\n",
            "udnojyyqdpdkgxyyjkddlgpjdbmpxjljudlgdknfqdyxnjudxxggxvbdqdksqbgdyfqnd  avec le couple  3 16\n",
            "luefapphugubxoppabuucxgausdgoacalucxubewhupoealuooxxomsuhubjhsxupwheu  avec le couple  3 17\n",
            "clvwrggylxlsofggrslltoxrljuxfrtrcltolsvnylgfvrclffoofdjlylsayjolgnyvl  avec le couple  3 18\n",
            "tcmnixxpcocjfwxxijcckfoicalowikitckfcjmepcxwmitcwwffwuacpcjrpafcxepmc  avec le couple  3 19\n",
            "ktdezoogtftawnoozattbwfztrcfnzbzktbwtadvgtondzktnnwwnlrtgtaigrwtovgdt  avec le couple  3 20\n",
            "bkuvqffxkwkrneffqrkksnwqkitweqsqbksnkrumxkfeuqbkeennecikxkrzxinkfmxuk  avec le couple  3 21\n",
            "sblmhwwobnbievwwhibbjenhbzknvhjhsbjebildobwvlhsbvveevtzbobiqozebwdolb  avec le couple  3 22\n",
            "jscdynnfseszvmnnyzssaveysqbemyayjsavszcufsnmcyjsmmvvmkqsfszhfqvsnufcs  avec le couple  3 23\n",
            "ajtupeewjvjqmdeepqjjrmvpjhsvdprpajrmjqtlwjedtpajddmmdbhjwjqywhmjelwtj  avec le couple  3 24\n",
            "raklgvvnamahduvvghaaidmgayjmugigraidahkcnavukgrauuddusyanahpnydavcnka  avec le couple  3 25\n",
            "4  n'est pas inversible modulo  26\n",
            "kflwtccsfhfemrccteffpmhtfjahrtptkfpmfelbsfcrltkfrrmmrvjfsfeosjmfcbslf  avec le couple  5 0\n",
            "pkqbyhhxkmkjrwhhyjkkurmykofmwyuypkurkjqgxkhwqypkwwrrwaokxkjtxorkhgxqk  avec le couple  5 1\n",
            "upvgdmmcprpowbmmdoppzwrdptkrbdzdupzwpovlcpmbvdupbbwwbftpcpoyctwpmlcvp  avec le couple  5 2\n",
            "zualirrhuwutbgrrituuebwiuypwgieizuebutaqhurgaizuggbbgkyuhutdhyburqhau  avec le couple  5 3\n",
            "ezfqnwwmzbzyglwwnyzzjgbnzdublnjnezjgzyfvmzwlfnezllgglpdzmzyimdgzwvmfz  avec le couple  5 4\n",
            "jekvsbbregedlqbbsdeeolgseizgqsosjeoledkarebqksjeqqllquierednrilebarke  avec le couple  5 5\n",
            "ojpaxggwjljiqvggxijjtqlxjnelvxtxojtqjipfwjgvpxojvvqqvznjwjiswnqjgfwpj  avec le couple  5 6\n",
            "toufcllboqonvallcnooyvqcosjqacyctoyvonukbolauctoaavvaesobonxbsvolkbuo  avec le couple  5 7\n",
            "ytzkhqqgtvtsafqqhsttdavhtxovfhdhytdatszpgtqfzhytffaafjxtgtscgxatqpgzt  avec le couple  5 8\n",
            "dyepmvvlyayxfkvvmxyyifamyctakmimdyifyxeulyvkemdykkffkocylyxhlcfyvuley  avec le couple  5 9\n",
            "idjuraaqdfdckpaarcddnkfrdhyfprnridnkdcjzqdapjridppkkpthdqdcmqhkdazqjd  avec le couple  5 10\n",
            "niozwffvikihpuffwhiispkwimdkuwswnispihoevifuowniuuppuymivihrvmpifevoi  avec le couple  5 11\n",
            "sntebkkanpnmuzkkbmnnxupbnripzbxbsnxunmtjankztbsnzzuuzdrnanmwarunkjatn  avec le couple  5 12\n",
            "xsyjgppfsusrzeppgrssczugswnuegcgxsczsryofspeygxseezzeiwsfsrbfwzspofys  avec le couple  5 13\n",
            "cxdoluukxzxwejuulwxxhezlxbszjlhlcxhexwdtkxujdlcxjjeejnbxkxwgkbexutkdx  avec le couple  5 14\n",
            "hcitqzzpcecbjozzqbccmjeqcgxeoqmqhcmjcbiypczoiqhcoojjosgcpcblpgjczypic  avec le couple  5 15\n",
            "mhnyveeuhjhgoteevghhrojvhlcjtvrvmhrohgnduhetnvmhttootxlhuhgqulohedunh  avec le couple  5 16\n",
            "rmsdajjzmomltyjjalmmwtoamqhoyawarmwtmlsizmjysarmyyttycqmzmlvzqtmjizsm  avec le couple  5 17\n",
            "wrxifooertrqydoofqrrbytfrvmtdfbfwrbyrqxnerodxfwrddyydhvrerqaevyronexr  avec le couple  5 18\n",
            "bwcnkttjwywvdittkvwwgdykwaryikgkbwgdwvcsjwtickbwiiddimawjwvfjadwtsjcw  avec le couple  5 19\n",
            "gbhspyyobdbainyypabblidpbfwdnplpgblibahxobynhpgbnniinrfbobakofibyxohb  avec le couple  5 20\n",
            "lgmxuddtgigfnsddufggqniugkbisuqulgqngfmctgdsmulgssnnswkgtgfptkngdctmg  avec le couple  5 21\n",
            "qlrcziiylnlksxiizkllvsnzlpgnxzvzqlvslkrhylixrzqlxxssxbplylkuypslihyrl  avec le couple  5 22\n",
            "vqwhenndqsqpxcnnepqqaxsequlsceaevqaxqpwmdqncwevqccxxcguqdqpzduxqnmdwq  avec le couple  5 23\n",
            "avbmjssivxvuchssjuvvfcxjvzqxhjfjavfcvubrivshbjavhhcchlzvivueizcvsribv  avec le couple  5 24\n",
            "fagroxxnacazhmxxozaakhcoaevcmokofakhazgwnaxmgofammhhmqeanazjnehaxwnga  avec le couple  5 25\n",
            "6  n'est pas inversible modulo  26\n",
            "wltmvuuylfloqbuuvollhqfvlzafbvhvwlhqlotxylubtvwlbbqqbpzlylokyzqluxytl  avec le couple  7 0\n",
            "hwexgffjwqwzbmffgzwwsbqgwklqmgsghwsbwzeijwfmeghwmmbbmakwjwzvjkbwfijew  avec le couple  7 1\n",
            "shpirqquhbhkmxqqrkhhdmbrhvwbxrdrshdmhkptuhqxprshxxmmxlvhuhkguvmhqtuph  avec le couple  7 2\n",
            "dsatcbbfsmsvxibbcvssoxmcsghmicocdsoxsvaefsbiacdsiixxiwgsfsvrfgxsbefas  avec le couple  7 3\n",
            "odlenmmqdxdgitmmngddzixndrsxtnznodzidglpqdmtlnodttiithrdqdgcqridmpqld  avec le couple  7 4\n",
            "zowpyxxboiortexxyrooktiyocdieykyzoktorwaboxewyzoeettescobornbctoxabwo  avec le couple  7 5\n",
            "kzhajiimztzcepiijczzvetjznotpjvjkzvezchlmziphjkzppeepdnzmzcymnezilmhz  avec le couple  7 6\n",
            "vksluttxkeknpattunkkgpeukyzeauguvkgpknswxktasuvkaappaoykxknjxypktwxsk  avec le couple  7 7\n",
            "gvdwfeeivpvyaleefyvvrapfvjkplfrfgvravydhiveldfgvllaalzjvivyuijavehidv  avec le couple  7 8\n",
            "rgohqpptgagjlwppqjggclaqguvawqcqrgclgjostgpwoqrgwwllwkugtgjftulgpstog  avec le couple  7 9\n",
            "crzsbaaerlruwhaaburrnwlbrfglhbnbcrnwruzderahzbcrhhwwhvfreruqefwradezr  avec le couple  7 10\n",
            "nckdmllpcwcfhsllmfccyhwmcqrwsmymncyhcfkopclskmncsshhsgqcpcfbpqhclopkc  avec le couple  7 11\n",
            "ynvoxwwanhnqsdwwxqnnjshxnbchdxjxynjsnqvzanwdvxynddssdrbnanqmabsnwzavn  avec le couple  7 12\n",
            "jygzihhlysybdohhibyyudsiymnsoiuijyudybgklyhogijyooddocmylybxlmdyhklgy  avec le couple  7 13\n",
            "ujrktsswjdjmozsstmjjfodtjxydztftujfojmrvwjszrtujzzooznxjwjmiwxojsvwrj  avec le couple  7 14\n",
            "fucveddhuouxzkddexuuqzoeuijokeqefuqzuxcghudkcefukkzzkyiuhuxthizudghcu  avec le couple  7 15\n",
            "qfngpoosfzfikvoopiffbkzpftuzvpbpqfbkfinrsfovnpqfvvkkvjtfsfiestkforsnf  avec le couple  7 16\n",
            "bqyrazzdqkqtvgzzatqqmvkaqefkgamabqmvqtycdqzgyabqggvvgueqdqtpdevqzcdyq  avec le couple  7 17\n",
            "mbjclkkobvbegrkklebbxgvlbpqvrlxlmbxgbejnobkrjlmbrrggrfpbobeaopgbknojb  avec le couple  7 18\n",
            "xmunwvvzmgmprcvvwpmmirgwmabgcwiwxmirmpuyzmvcuwxmccrrcqamzmplzarmvyzum  avec le couple  7 19\n",
            "ixfyhggkxrxacngghaxxtcrhxlmrnhthixtcxafjkxgnfhixnnccnblxkxawklcxgjkfx  avec le couple  7 20\n",
            "tiqjsrrvicilnyrrsliiencsiwxcysestienilquviryqstiyynnymwivilhvwniruvqi  avec le couple  7 21\n",
            "etbudccgtntwyjccdwttpyndthinjdpdetpytwbfgtcjbdetjjyyjxhtgtwsghytcfgbt  avec le couple  7 22\n",
            "pemfonnreyehjunnoheeajyoestyuoaopeajehmqrenumopeuujjuiserehdrsjenqrme  avec le couple  7 23\n",
            "apxqzyycpjpsufyyzspplujzpdejfzlzaplupsxbcpyfxzapffuuftdpcpsocdupybcxp  avec le couple  7 24\n",
            "laibkjjnauadfqjjkdaawfukaopuqkwklawfadimnajqiklaqqffqeoanadznofajmnia  avec le couple  7 25\n",
            "8  n'est pas inversible modulo  26\n",
            "uxjszeekxbxiyveezixxrybzxfabvzrzuxryxijpkxevjzuxvvyyvdfxkxickfyxepkjx  avec le couple  9 0\n",
            "rugpwbbhuyufvsbbwfuuovywucxyswowruovufgmhubsgwrussvvsacuhufzhcvubmhgu  avec le couple  9 1\n",
            "ordmtyyervrcspyytcrrlsvtrzuvptltorlsrcdjerypdtorppsspxzrercwezsryjedr  avec le couple  9 2\n",
            "loajqvvbosozpmvvqzooipsqowrsmqiqloipozagbovmaqlommppmuwoboztbwpovgbao  avec le couple  9 3\n",
            "ilxgnssylplwmjssnwllfmpnltopjnfnilfmlwxdylsjxniljjmmjrtlylwqytmlsdyxl  avec le couple  9 4\n",
            "fiudkppvimitjgppktiicjmkiqlmgkckficjituavipgukfiggjjgoqivitnvqjipavui  avec le couple  9 5\n",
            "cfrahmmsfjfqgdmmhqffzgjhfnijdhzhcfzgfqrxsfmdrhcfddggdlnfsfqksngfmxsrf  avec le couple  9 6\n",
            "zcoxejjpcgcndajjenccwdgeckfgaewezcwdcnoupcjaoezcaaddaikcpcnhpkdcjupoc  avec le couple  9 7\n",
            "wzlubggmzdzkaxggbkzztadbzhcdxbtbwztazklrmzgxlbwzxxaaxfhzmzkemhazgrmlz  avec le couple  9 8\n",
            "twiryddjwawhxuddyhwwqxaywezauyqytwqxwhiojwduiytwuuxxucewjwhbjexwdojiw  avec le couple  9 9\n",
            "qtfovaagtxteuraavettnuxvtbwxrvnvqtnuteflgtarfvqtrruurzbtgteygbutalgft  avec le couple  9 10\n",
            "nqclsxxdquqbroxxsbqqkrusqytuosksnqkrqbcidqxocsnqoorrowyqdqbvdyrqxidcq  avec le couple  9 11\n",
            "knzipuuanrnyoluupynnhorpnvqrlphpknhonyzfanulzpknllooltvnanysavonufazn  avec le couple  9 12\n",
            "hkwfmrrxkokvlirrmvkkelomksnoimemhkelkvwcxkriwmhkiilliqskxkvpxslkrcxwk  avec le couple  9 13\n",
            "ehtcjoouhlhsifoojshhbiljhpklfjbjehbihstzuhoftjehffiifnphuhsmupihozuth  avec le couple  9 14\n",
            "beqzgllreiepfcllgpeeyfigemhicgygbeyfepqwrelcqgbeccffckmerepjrmfelwrqe  avec le couple  9 15\n",
            "ybnwdiiobfbmcziidmbbvcfdbjefzdvdybvcbmntobizndybzzcczhjbobmgojcbitonb  avec le couple  9 16\n",
            "vyktafflycyjzwffajyyszcaygbcwasavyszyjkqlyfwkavywwzzwegylyjdlgzyfqlky  avec le couple  9 17\n",
            "svhqxccivzvgwtccxgvvpwzxvdyztxpxsvpwvghnivcthxsvttwwtbdvivgaidwvcnihv  avec le couple  9 18\n",
            "psenuzzfswsdtqzzudssmtwusavwqumupsmtsdekfszqeupsqqttqyasfsdxfatszkfes  avec le couple  9 19\n",
            "mpbkrwwcptpaqnwwrappjqtrpxstnrjrmpjqpabhcpwnbrmpnnqqnvxpcpaucxqpwhcbp  avec le couple  9 20\n",
            "jmyhottzmqmxnkttoxmmgnqomupqkogojmgnmxyezmtkyojmkknnksumzmxrzunmtezym  avec le couple  9 21\n",
            "gjvelqqwjnjukhqqlujjdknljrmnhldlgjdkjuvbwjqhvlgjhhkkhprjwjuowrkjqbwvj  avec le couple  9 22\n",
            "dgsbinntgkgrhennirggahkigojkeiaidgahgrsytgnesidgeehhemogtgrltohgnytsg  avec le couple  9 23\n",
            "adpyfkkqdhdoebkkfoddxehfdlghbfxfadxedopvqdkbpfadbbeebjldqdoiqledkvqpd  avec le couple  9 24\n",
            "xamvchhnaealbyhhclaaubecaideycucxaubalmsnahymcxayybbygianalfnibahsnma  avec le couple  9 25\n",
            "10  n'est pas inversible modulo  26\n",
            "ohfkliiuhphqwdiilqhhvwplhxapdlvlohvwhqfruhidflohddwwdtxhuhqeuxwhirufh  avec le couple  11 0\n",
            "vomrsppbowoxdkppsxoocdwsoehwkscsvocdoxmybopkmsvokkddkaeoboxlbedopybmo  avec le couple  11 1\n",
            "cvtyzwwivdvekrwwzevvjkdzvlodrzjzcvjkvetfivwrtzcvrrkkrhlvivesilkvwfitv  avec le couple  11 2\n",
            "jcafgddpckclryddglccqrkgcsvkygqgjcqrclampcdyagjcyyrryoscpclzpsrcdmpac  avec le couple  11 3\n",
            "qjhmnkkwjrjsyfkknsjjxyrnjzcrfnxnqjxyjshtwjkfhnqjffyyfvzjwjsgwzyjktwhj  avec le couple  11 4\n",
            "xqoturrdqyqzfmrruzqqefyuqgjymueuxqefqzoadqrmouxqmmffmcgqdqzndgfqradoq  avec le couple  11 5\n",
            "exvabyykxfxgmtyybgxxlmfbxnqftblbexlmxgvhkxytvbexttmmtjnxkxguknmxyhkvx  avec le couple  11 6\n",
            "lechiffrementaffineestmieuxmaisilestencorefacileaattaquerenbruteforce  avec le couple  11 7\n",
            "sljopmmyltluahmmpullzatplbethpzpslzalujvylmhjpslhhaahxblyluiybalmvyjl  avec le couple  11 8\n",
            "zsqvwttfsasbhottwbssghawsilaowgwzsghsbqcfstoqwzsoohhoeisfsbpfihstcfqs  avec le couple  11 9\n",
            "gzxcdaamzhziovaadizznohdzpshvdndgznozixjmzavxdgzvvoovlpzmziwmpozajmxz  avec le couple  11 10\n",
            "ngejkhhtgogpvchhkpgguvokgwzockuknguvgpeqtghcekngccvvcswgtgpdtwvghqteg  avec le couple  11 11\n",
            "unlqrooanvnwcjoorwnnbcvrndgvjrbrunbcnwlxanojlrunjjccjzdnanwkadcnoxaln  avec le couple  11 12\n",
            "busxyvvhucudjqvvyduuijcyukncqyiybuijudsehuvqsybuqqjjqgkuhudrhkjuvehsu  avec le couple  11 13\n",
            "ibzefccobjbkqxccfkbbpqjfbrujxfpfibpqbkzlobcxzfibxxqqxnrbobkyorqbclozb  avec le couple  11 14\n",
            "piglmjjviqirxejjmriiwxqmiybqemwmpiwxirgsvijegmpieexxeuyivirfvyxijsvgi  avec le couple  11 15\n",
            "wpnstqqcpxpyelqqtyppdextpfixltdtwpdepynzcpqlntwplleelbfpcpymcfepqzcnp  avec le couple  11 16\n",
            "dwuzaxxjwewflsxxafwwkleawmpesakadwklwfugjwxsuadwssllsimwjwftjmlwxgjuw  avec le couple  11 17\n",
            "kdbgheeqdldmszeehmddrslhdtwlzhrhkdrsdmbnqdezbhkdzzsszptdqdmaqtsdenqbd  avec le couple  11 18\n",
            "rkinollxksktzgllotkkyzsokadsgoyorkyzktiuxklgiorkggzzgwakxkthxazkluxik  avec le couple  11 19\n",
            "yrpuvsserzragnssvarrfgzvrhkznvfvyrfgrapbersnpvyrnnggndhreraoehgrsbepr  avec le couple  11 20\n",
            "fywbczzlygyhnuzzchyymngcyorgucmcfymnyhwilyzuwcfyuunnukoylyhvlonyzilwy  avec le couple  11 21\n",
            "mfdijggsfnfoubggjofftunjfvynbjtjmftufodpsfgbdjmfbbuubrvfsfocsvufgpsdf  avec le couple  11 22\n",
            "tmkpqnnzmumvbinnqvmmabuqmcfuiqaqtmabmvkwzmnikqtmiibbiycmzmvjzcbmnwzkm  avec le couple  11 23\n",
            "atrwxuugtbtcipuuxctthibxtjmbpxhxathitcrdgtuprxatppiipfjtgtcqgjitudgrt  avec le couple  11 24\n",
            "haydebbnaiajpwbbejaaopieaqtiweoehaopajyknabwyehawwppwmqanajxnqpabknya  avec le couple  11 25\n",
            "12  n'est pas inversible modulo  26\n",
            "13  n'est pas inversible modulo  26\n",
            "14  n'est pas inversible modulo  26\n",
            "mtvqpssgtltkexsspkttfelptdalxpfpmtfetkvjgtsxvpmtxxeexhdtgtkwgdetsjgvt  avec le couple  15 0\n",
            "fmojillzmemdxqllidmmyxeimwteqiyifmyxmdoczmlqoifmqqxxqawmzmdpzwxmlczom  avec le couple  15 1\n",
            "yfhcbeesfxfwqjeebwffrqxbfpmxjbrbyfrqfwhvsfejhbyfjjqqjtpfsfwispqfevshf  avec le couple  15 2\n",
            "ryavuxxlyqypjcxxupyykjquyifqcukurykjypaolyxcauryccjjcmiylypblijyxolay  avec le couple  15 3\n",
            "krtonqqerjricvqqnirrdcjnrbyjvndnkrdcritherqvtnkrvvccvfbreriuebcrqhetr  avec le couple  15 4\n",
            "dkmhgjjxkckbvojjgbkkwvcgkurcogwgdkwvkbmaxkjomgdkoovvoyukxkbnxuvkjaxmk  avec le couple  15 5\n",
            "wdfazccqdvduohcczuddpovzdnkvhzpzwdpoduftqdchfzwdhhoohrndqdugqnodctqfd  avec le couple  15 6\n",
            "pwytsvvjwownhavvsnwwihoswgdoasispwihwnymjwvayspwaahhakgwjwnzjghwvmjyw  avec le couple  15 7\n",
            "iprmloocphpgatoolgppbahlpzwhtlblipbapgrfcpotrlipttaatdzpcpgsczapofcrp  avec le couple  15 8\n",
            "bikfehhviaiztmhheziiutaeispameuebiutizkyvihmkebimmttmwsivizlvstihyvki  avec le couple  15 9\n",
            "ubdyxaaobtbsmfaaxsbbnmtxblitfxnxubnmbsdrobafdxubffmmfplbobseolmbarodb  avec le couple  15 10\n",
            "nuwrqtthumulfyttqluugfmquebmyqgqnugfulwkhutywqnuyyffyieuhulxhefutkhwu  avec le couple  15 11\n",
            "gnpkjmmanfneyrmmjennzyfjnxufrjzjgnzynepdanmrpjgnrryyrbxnaneqaxynmdapn  avec le couple  15 12\n",
            "zgidcfftgygxrkffcxggsrycgqnykcsczgsrgxiwtgfkiczgkkrrkuqgtgxjtqrgfwtig  avec le couple  15 13\n",
            "szbwvyymzrzqkdyyvqzzlkrvzjgrdvlvszlkzqbpmzydbvszddkkdnjzmzqcmjkzypmbz  avec le couple  15 14\n",
            "lsuporrfsksjdwrrojssedkosczkwoeolsedsjuifsrwuolswwddwgcsfsjvfcdsrifus  avec le couple  15 15\n",
            "elnihkkyldlcwpkkhcllxwdhlvsdphxhelxwlcnbylkpnhelppwwpzvlylcoyvwlkbynl  avec le couple  15 16\n",
            "xegbaddrewevpiddaveeqpwaeolwiaqaxeqpevguredigaxeiippisoerevhropedurge  avec le couple  15 17\n",
            "qxzutwwkxpxoibwwtoxxjiptxhepbtjtqxjixoznkxwbztqxbbiiblhxkxoakhixwnkzx  avec le couple  15 18\n",
            "jqsnmppdqiqhbuppmhqqcbimqaxiumcmjqcbqhsgdqpusmjquubbueaqdqhtdabqpgdsq  avec le couple  15 19\n",
            "cjlgfiiwjbjauniifajjvubfjtqbnfvfcjvujalzwjinlfcjnnuunxtjwjamwtujizwlj  avec le couple  15 20\n",
            "vcezybbpcuctngbbytcconuycmjugyoyvconctespcbgeyvcggnngqmcpctfpmncbspec  avec le couple  15 21\n",
            "ovxsruuivnvmgzuurmvvhgnrvfcnzrhrovhgvmxlivuzxrovzzggzjfvivmyifgvulixv  avec le couple  15 22\n",
            "hoqlknnbogofzsnnkfooazgkoyvgskakhoazofqebonsqkhosszzscyobofrbyzonebqo  avec le couple  15 23\n",
            "ahjedgguhzhyslggdyhhtszdhrozldtdahtshyjxuhgljdahllsslvrhuhykurshgxujh  avec le couple  15 24\n",
            "tacxwzznasarlezzwraamlswakhsewmwtamlarcqnazecwtaeelleokanardnklazqnca  avec le couple  15 25\n",
            "16  n'est pas inversible modulo  26\n",
            "gdribwwqdzdscfwwbsddjczbdvazfbjbgdjcdsrlqdwfrbgdffccfxvdqdsyqvcdwlqrd  avec le couple  17 0\n",
            "jgulezztgcgvfizzevggmfcegydciemejgmfgvuotgziuejgiiffiaygtgvbtyfgzotug  avec le couple  17 1\n",
            "mjxohccwjfjyilcchyjjpifhjbgflhphmjpijyxrwjclxhmjlliildbjwjyewbijcrwxj  avec le couple  17 2\n",
            "pmarkffzmimbloffkbmmslikmejiokskpmslmbauzmfoakpmoollogemzmbhzelmfuzam  avec le couple  17 3\n",
            "spduniicplpeoriineppvolnphmlrnvnspvopedxcpirdnsprroorjhpcpekchopixcdp  avec le couple  17 4\n",
            "vsgxqllfsoshrullqhssyroqskpouqyqvsyrshgafslugqvsuurrumksfshnfkrslafgs  avec le couple  17 5\n",
            "yvjatooivrvkuxootkvvburtvnsrxtbtyvbuvkjdivoxjtyvxxuuxpnvivkqinuvodijv  avec le couple  17 6\n",
            "bymdwrrlyuynxarrwnyyexuwyqvuawewbyexynmglyramwbyaaxxasqylyntlqxyrglmy  avec le couple  17 7\n",
            "ebpgzuuobxbqaduuzqbbhaxzbtyxdzhzebhabqpjobudpzebddaadvtbobqwotabujopb  avec le couple  17 8\n",
            "hesjcxxreaetdgxxcteekdacewbagckchekdetsmrexgscheggddgyweretzrwdexmrse  avec le couple  17 9\n",
            "khvmfaauhdhwgjaafwhhngdfhzedjfnfkhnghwvpuhajvfkhjjggjbzhuhwcuzghapuvh  avec le couple  17 10\n",
            "nkypiddxkgkzjmddizkkqjgikchgmiqinkqjkzysxkdmyinkmmjjmeckxkzfxcjkdsxyk  avec le couple  17 11\n",
            "qnbslgganjncmpgglcnntmjlnfkjpltlqntmncbvangpblqnppmmphfnanciafmngvabn  avec le couple  17 12\n",
            "tqevojjdqmqfpsjjofqqwpmoqinmsowotqwpqfeydqjseotqssppskiqdqfldipqjydeq  avec le couple  17 13\n",
            "wthyrmmgtptisvmmrittzsprtlqpvrzrwtzstihbgtmvhrwtvvssvnltgtioglstmbght  avec le couple  17 14\n",
            "zwkbuppjwswlvyppulwwcvsuwotsyucuzwcvwlkejwpykuzwyyvvyqowjwlrjovwpejkw  avec le couple  17 15\n",
            "cznexssmzvzoybssxozzfyvxzrwvbxfxczfyzonhmzsbnxczbbyybtrzmzoumryzshmnz  avec le couple  17 16\n",
            "fcqhavvpcycrbevvarccibyacuzyeaiafcibcrqkpcveqafceebbewucpcrxpubcvkpqc  avec le couple  17 17\n",
            "iftkdyysfbfuehyydufflebdfxcbhdldiflefutnsfyhtdifhheehzxfsfuasxefynstf  avec le couple  17 18\n",
            "liwngbbvieixhkbbgxiiohegiafekgogliohixwqvibkwglikkhhkcaivixdvahibqvwi  avec le couple  17 19\n",
            "olzqjeeylhlakneejallrkhjldihnjrjolrklaztylenzjolnnkknfdlylagydkletyzl  avec le couple  17 20\n",
            "roctmhhbokodnqhhmdoounkmoglkqmumrounodcwbohqcmroqqnnqigobodjbgnohwbco  avec le couple  17 21\n",
            "urfwpkkernrgqtkkpgrrxqnprjontpxpurxqrgfzerktfpurttqqtljrergmejqrkzefr  avec le couple  17 22\n",
            "xuizsnnhuqujtwnnsjuuatqsumrqwsasxuatujichunwisxuwwttwomuhujphmtunchiu  avec le couple  17 23\n",
            "axlcvqqkxtxmwzqqvmxxdwtvxputzvdvaxdwxmlfkxqzlvaxzzwwzrpxkxmskpwxqfklx  avec le couple  17 24\n",
            "daofyttnawapzcttypaagzwyasxwcygydagzapoinatcoydacczzcusanapvnszatinoa  avec le couple  17 25\n",
            "18  n'est pas inversible modulo  26\n",
            "ephofggcpvpmkzggfmpptkvfpbavzftfeptkpmhdcpgzhfepzzkkzlbpcpmqcbkpgdchp  avec le couple  19 0\n",
            "tewduvvrekebzovvubeeizkueqpkouiuteizebwsrevowuteoozzoaqerebfrqzevsrwe  avec le couple  19 1\n",
            "itlsjkkgtztqodkkjqttxozjtfezdjxjitxotqlhgtkdljitddoodpftgtqugfotkhglt  avec le couple  19 2\n",
            "xiahyzzvioifdszzyfiimdoyiutosymyximdifawvizsayxissddseuivifjvudizwvai  avec le couple  19 3\n",
            "mxpwnookxdxushoonuxxbsdnxjidhnbnmxbsxuplkxohpnmxhhsshtjxkxuykjsxolkpx  avec le couple  19 4\n",
            "bmelcddzmsmjhwddcjmmqhscmyxswcqcbmqhmjeazmdwecbmwwhhwiymzmjnzyhmdazem  avec le couple  19 5\n",
            "qbtarssobhbywlssrybbfwhrbnmhlrfrqbfwbytpobsltrqbllwwlxnbobyconwbspotb  avec le couple  19 6\n",
            "fqipghhdqwqnlahhgnqqulwgqcbwagugfqulqniedqhaigfqaallamcqdqnrdclqhediq  avec le couple  19 7\n",
            "ufxevwwsflfcapwwvcffjalvfrqlpvjvufjafcxtsfwpxvufppaapbrfsfcgsrafwtsxf  avec le couple  19 8\n",
            "jumtkllhuaurpellkruuypakugfaekykjuypurmihulemkjueeppeqguhurvhgpulihmu  avec le couple  19 9\n",
            "yjbizaawjpjgetaazgjjnepzjvuptznzyjnejgbxwjatbzyjtteetfvjwjgkwvejaxwbj  avec le couple  19 10\n",
            "nyqxopplyeyvtippovyycteoykjeioconyctyvqmlypiqonyiittiukylyvzlktypmlqy  avec le couple  19 11\n",
            "cnfmdeeantnkixeedknnritdnzytxdrdcnrinkfbanexfdcnxxiixjznankoazinebafn  avec le couple  19 12\n",
            "rcubsttpciczxmttszccgxisconimsgsrcgxczuqpctmusrcmmxxmyocpczdpoxctqpuc  avec le couple  19 13\n",
            "grjqhiierxrombiihorrvmxhrdcxbhvhgrvmrojferibjhgrbbmmbndrerosedmrifejr  avec le couple  19 14\n",
            "vgyfwxxtgmgdbqxxwdggkbmwgsrmqwkwvgkbgdyutgxqywvgqqbbqcsgtgdhtsbgxutyg  avec le couple  19 15\n",
            "kvnulmmivbvsqfmmlsvvzqblvhgbflzlkvzqvsnjivmfnlkvffqqfrhvivswihqvmjinv  avec le couple  19 16\n",
            "zkcjabbxkqkhfubbahkkofqakwvquaoazkofkhcyxkbucazkuuffugwkxkhlxwfkbyxck  avec le couple  19 17\n",
            "ozrypqqmzfzwujqqpwzzdufpzlkfjpdpozduzwrnmzqjrpozjjuujvlzmzwamluzqnmrz  avec le couple  19 18\n",
            "dogneffbouoljyffeloosjueoazuyesedosjolgcbofygedoyyjjykaobolpbajofcbgo  avec le couple  19 19\n",
            "sdvctuuqdjdaynuutaddhyjtdpojnthtsdhydavrqdunvtsdnnyynzpdqdaeqpydurqvd  avec le couple  19 20\n",
            "hskrijjfsyspncjjipsswnyisedyciwihswnspkgfsjckihsccnncoesfsptfensjgfks  avec le couple  19 21\n",
            "whzgxyyuhnhecryyxehhlcnxhtsnrxlxwhlchezvuhyrzxwhrrccrdthuheiutchyvuzh  avec le couple  19 22\n",
            "lwovmnnjwcwtrgnnmtwwarcmwihcgmamlwarwtokjwngomlwggrrgsiwjwtxjirwnkjow  avec le couple  19 23\n",
            "aldkbccylrligvccbillpgrblxwrvbpbalpglidzylcvdbalvvggvhxlylimyxglczydl  avec le couple  19 24\n",
            "paszqrrnagaxvkrrqxaaevgqamlgkqeqpaevaxsonarksqpakkvvkwmanaxbnmvaronsa  avec le couple  19 25\n",
            "20  n'est pas inversible modulo  26\n",
            "qvpehyyivtvwojyyhwvvlothvratjhlhqvlovwpzivyjphqvjjoojfrvivwmirovyzipv  avec le couple  21 0\n",
            "lqkzcttdqoqrjettcrqqgjocqmvoecgclqgjqrkudqtekclqeejjeamqdqrhdmjqtudkq  avec le couple  21 1\n",
            "glfuxooyljlmezooxmllbejxlhqjzxbxglbelmfpylozfxglzzeezvhlylmcyhelopyfl  avec le couple  21 2\n",
            "bgapsjjtgeghzujjshggwzesgcleuswsbgwzghaktgjuasbguuzzuqcgtghxtczgjktag  avec le couple  21 3\n",
            "wbvkneeobzbcupeencbbruznbxgzpnrnwbrubcvfobepvnwbppuuplxbobcsoxubefovb  avec le couple  21 4\n",
            "rwqfizzjwuwxpkzzixwwmpuiwsbukimirwmpwxqajwzkqirwkkppkgswjwxnjspwzajqw  avec le couple  21 5\n",
            "mrladuuerprskfuudsrrhkpdrnwpfdhdmrhkrslverufldmrffkkfbnrersienkruvelr  avec le couple  21 6\n",
            "hmgvyppzmkmnfappynmmcfkymirkaycyhmcfmngqzmpagyhmaaffawimzmndzifmpqzgm  avec le couple  21 7\n",
            "chbqtkkuhfhiavkktihhxafthdmfvtxtchxahibluhkvbtchvvaavrdhuhiyudahklubh  avec le couple  21 8\n",
            "xcwloffpcacdvqffodccsvaocyhaqosoxcsvcdwgpcfqwoxcqqvvqmycpcdtpyvcfgpwc  avec le couple  21 9\n",
            "sxrgjaakxvxyqlaajyxxnqvjxtcvljnjsxnqxyrbkxalrjsxllqqlhtxkxyoktqxabkrx  avec le couple  21 10\n",
            "nsmbevvfsqstlgvvetssilqesoxqgeiensilstmwfsvgmensggllgcosfstjfolsvwfms  avec le couple  21 11\n",
            "inhwzqqanlnogbqqzonndglznjslbzdzindgnohranqbhzinbbggbxjnanoeajgnqrahn  avec le couple  21 12\n",
            "dicrullvigijbwllujiiybguiengwuyudiybijcmvilwcudiwwbbwseivijzvebilmvci  avec le couple  21 13\n",
            "ydxmpggqdbdewrggpeddtwbpdzibrptpydtwdexhqdgrxpydrrwwrnzdqdeuqzwdghqxd  avec le couple  21 14\n",
            "tyshkbblywyzrmbbkzyyorwkyudwmkoktyoryzsclybmsktymmrrmiuylyzplurybclsy  avec le couple  21 15\n",
            "otncfwwgtrtumhwwfuttjmrftpyrhfjfotjmtunxgtwhnfothhmmhdptgtukgpmtwxgnt  avec le couple  21 16\n",
            "joixarrbomophcrrapooehmaoktmcaeajoehopisborciajocchhcykobopfbkhorsbio  avec le couple  21 17\n",
            "ejdsvmmwjhjkcxmmvkjjzchvjfohxvzvejzcjkdnwjmxdvejxxccxtfjwjkawfcjmnwdj  avec le couple  21 18\n",
            "zeynqhhrecefxshhqfeeuxcqeajcsquqzeuxefyirehsyqzessxxsoaerefvraxehirye  avec le couple  21 19\n",
            "uztilccmzxzasncclazzpsxlzvexnlpluzpszatdmzcntluznnssnjvzmzaqmvszcdmtz  avec le couple  21 20\n",
            "puodgxxhusuvnixxgvuuknsguqzsigkgpuknuvoyhuxiogpuiinniequhuvlhqnuxyhou  avec le couple  21 21\n",
            "kpjybsscpnpqidssbqppfinbplundbfbkpfipqjtcpsdjbkpddiidzlpcpqgclipstcjp  avec le couple  21 22\n",
            "fketwnnxkikldynnwlkkadiwkgpiywawfkadkleoxknyewfkyyddyugkxklbxgdknoxek  avec le couple  21 23\n",
            "afzoriisfdfgytiirgffvydrfbkdtrvrafvyfgzjsfitzrafttyytpbfsfgwsbyfijszf  avec le couple  21 24\n",
            "vaujmddnayabtoddmbaaqtymawfyomqmvaqtabuenadoumvaoottokwanabrnwtadenua  avec le couple  21 25\n",
            "22  n'est pas inversible modulo  26\n",
            "sjzydoowjxjcgpoodcjjbgxdjlaxpdbdsjbgjczhwjopzdsjppggprljwjcuwlgjohwzj  avec le couple  23 0\n",
            "bsihmxxfsgslpyxxmlsskpgmsujgymkmbskpsliqfsxyimbsyyppyausfsldfupsxqfis  avec le couple  23 1\n",
            "kbrqvggobpbuyhggvubbtypvbdsphvtvkbtyburzobghrvkbhhyyhjdbobumodybgzorb  avec le couple  23 2\n",
            "tkazeppxkykdhqppedkkchyekmbyqecetkchkdaixkpqaetkqqhhqsmkxkdvxmhkpixak  avec le couple  23 3\n",
            "ctjinyygthtmqzyynmttlqhntvkhznlnctlqtmjrgtyzjnctzzqqzbvtgtmegvqtyrgjt  avec le couple  23 4\n",
            "lcsrwhhpcqcvzihhwvccuzqwcetqiwuwlcuzcvsapchiswlciizzikecpcvnpezchapsc  avec le couple  23 5\n",
            "ulbafqqylzleirqqfelldizflnczrfdfuldilebjylqrbfulrriirtnlylewynilqjybl  avec le couple  23 6\n",
            "dukjozzhuiunrazzonuumriouwliaomodumrunkshuzakoduaarracwuhunfhwruzshku  avec le couple  23 7\n",
            "mdtsxiiqdrdwajiixwddvarxdfurjxvxmdvadwtbqdijtxmdjjaajlfdqdwoqfadibqtd  avec le couple  23 8\n",
            "vmcbgrrzmamfjsrrgfmmejagmodasgegvmejmfckzmrscgvmssjjsuomzmfxzojmrkzcm  avec le couple  23 9\n",
            "evlkpaaivjvosbaapovvnsjpvxmjbpnpevnsvoltivablpevbbssbdxvivogixsvatilv  avec le couple  23 10\n",
            "neutyjjresexbkjjyxeewbsyegvskywynewbexucrejkuynekkbbkmgerexprgbejcrue  avec le couple  23 11\n",
            "wndchssanbngktsshgnnfkbhnpebthfhwnfkngdlanstdhwnttkktvpnangyapknsladn  avec le couple  23 12\n",
            "fwmlqbbjwkwptcbbqpwwotkqwynkcqoqfwotwpmujwbcmqfwccttceywjwphjytwbujmw  avec le couple  23 13\n",
            "ofvuzkksftfyclkkzyffxctzfhwtlzxzofxcfyvdsfklvzofllcclnhfsfyqshcfkdsvf  avec le couple  23 14\n",
            "xoedittbocohluttihooglcioqfcuigixoglohembotueixouulluwqobohzbqlotmbeo  avec le couple  23 15\n",
            "gxnmrcckxlxqudccrqxxpulrxzoldrprgxpuxqnvkxcdnrgxdduudfzxkxqikzuxcvknx  avec le couple  23 16\n",
            "pgwvalltgugzdmllazggyduagixumayapgydgzwetglmwapgmmddmoigtgzrtidgletwg  avec le couple  23 17\n",
            "ypfejuucpdpimvuujipphmdjprgdvjhjyphmpifncpuvfjypvvmmvxrpcpiacrmpuncfp  avec le couple  23 18\n",
            "hyonsddlymyrveddsryyqvmsyapmesqshyqvyrowlydeoshyeevvegaylyrjlavydwloy  avec le couple  23 19\n",
            "qhxwbmmuhvhaenmmbahhzevbhjyvnbzbqhzehaxfuhmnxbqhnneenpjhuhasujehmfuxh  avec le couple  23 20\n",
            "zqgfkvvdqeqjnwvvkjqqinekqshewkikzqinqjgodqvwgkzqwwnnwysqdqjbdsnqvodgq  avec le couple  23 21\n",
            "izpoteemznzswfeetszzrwntzbqnftrtizrwzspxmzefptizffwwfhbzmzskmbwzexmpz  avec le couple  23 22\n",
            "riyxcnnviwibfonncbiiafwcikzwocacriafibygvinoycriooffoqkivibtvkfingvyi  avec le couple  23 23\n",
            "arhglwwerfrkoxwwlkrrjoflrtifxljlarjorkhperwxhlarxxooxztrerkcetorwpehr  avec le couple  23 24\n",
            "jaqpuffnaoatxgffutaasxouacrogusujasxatqynafgqujaggxxgicanatlncxafynqa  avec le couple  23 25\n",
            "24  n'est pas inversible modulo  26\n",
            "cbxujqqobrbgstqqjgbbdsrjbhartjdjcbdsbgxvobqtxjcbttsstzhbobgiohsbqvoxb  avec le couple  25 0\n",
            "dcyvkrrpcschturrkhccetskcibsukekdcetchywpcruykdcuuttuaicpchjpitcrwpyc  avec le couple  25 1\n",
            "edzwlssqdtdiuvssliddfutldjctvlfledfudizxqdsvzledvvuuvbjdqdikqjudsxqzd  avec le couple  25 2\n",
            "feaxmttreuejvwttmjeegvumekduwmgmfegvejayretwamfewwvvwckerejlrkvetyrae  avec le couple  25 3\n",
            "gfbynuusfvfkwxuunkffhwvnflevxnhngfhwfkbzsfuxbngfxxwwxdlfsfkmslwfuzsbf  avec le couple  25 4\n",
            "hgczovvtgwglxyvvolggixwogmfwyoiohgixglcatgvycohgyyxxyemgtglntmxgvatcg  avec le couple  25 5\n",
            "ihdapwwuhxhmyzwwpmhhjyxphngxzpjpihjyhmdbuhwzdpihzzyyzfnhuhmounyhwbudh  avec le couple  25 6\n",
            "jiebqxxviyinzaxxqniikzyqiohyaqkqjikzinecvixaeqjiaazzagoivinpvozixcvei  avec le couple  25 7\n",
            "kjfcryywjzjoabyyrojjlazrjpizbrlrkjlajofdwjybfrkjbbaabhpjwjoqwpajydwfj  avec le couple  25 8\n",
            "lkgdszzxkakpbczzspkkmbaskqjacsmslkmbkpgexkzcgslkccbbciqkxkprxqbkzexgk  avec le couple  25 9\n",
            "mlhetaaylblqcdaatqllncbtlrkbdtntmlnclqhfyladhtmlddccdjrlylqsyrclafyhl  avec le couple  25 10\n",
            "nmifubbzmcmrdebburmmodcumslceuounmodmrigzmbeiunmeeddeksmzmrtzsdmbgzim  avec le couple  25 11\n",
            "onjgvccandnsefccvsnnpedvntmdfvpvonpensjhancfjvonffeefltnansuatenchajn  avec le couple  25 12\n",
            "pokhwddboeotfgddwtooqfewounegwqwpoqfotkibodgkwpoggffgmuobotvbufodibko  avec le couple  25 13\n",
            "qplixeecpfpugheexupprgfxpvofhxrxqprgpuljcpehlxqphhgghnvpcpuwcvgpejclp  avec le couple  25 14\n",
            "rqmjyffdqgqvhiffyvqqshgyqwpgiysyrqshqvmkdqfimyrqiihhiowqdqvxdwhqfkdmq  avec le couple  25 15\n",
            "srnkzggerhrwijggzwrrtihzrxqhjztzsrtirwnlergjnzsrjjiijpxrerwyexirglenr  avec le couple  25 16\n",
            "tsolahhfsisxjkhhaxssujiasyrikauatsujsxomfshkoatskkjjkqysfsxzfyjshmfos  avec le couple  25 17\n",
            "utpmbiigtjtykliibyttvkjbtzsjlbvbutvktypngtilpbutllkklrztgtyagzktingpt  avec le couple  25 18\n",
            "vuqncjjhukuzlmjjczuuwlkcuatkmcwcvuwluzqohujmqcvummllmsauhuzbhalujohqu  avec le couple  25 19\n",
            "wvrodkkivlvamnkkdavvxmldvbulndxdwvxmvarpivknrdwvnnmmntbvivacibmvkpirv  avec le couple  25 20\n",
            "xwspelljwmwbnollebwwynmewcvmoeyexwynwbsqjwlosexwoonnoucwjwbdjcnwlqjsw  avec le couple  25 21\n",
            "yxtqfmmkxnxcopmmfcxxzonfxdwnpfzfyxzoxctrkxmptfyxppoopvdxkxcekdoxmrktx  avec le couple  25 22\n",
            "zyurgnnlyoydpqnngdyyapogyexoqgagzyapyduslynqugzyqqppqweylydflepynsluy  avec le couple  25 23\n",
            "azvshoomzpzeqroohezzbqphzfyprhbhazbqzevtmzorvhazrrqqrxfzmzegmfqzotmvz  avec le couple  25 24\n",
            "bawtippnaqafrsppifaacrqiagzqsicibacrafwunapswibassrrsyganafhngrapunwa  avec le couple  25 25\n",
            "312  résultats\n"
          ]
        }
      ],
      "source": [
        "decrypteAffine(\"YZDGRKKMZJZUIHKKRUZZXIJRZTAJHRXRYZXIZUDFMZKHDRYZHHIIHBTZMZUSMTIZKFMDZ\")"
      ]
    },
    {
      "cell_type": "markdown",
      "id": "b31eaa30",
      "metadata": {
        "id": "b31eaa30"
      },
      "source": [
        "<b> Question : </b>Combien de résultats différents obtient-on ? Retrouver la clé et le texte décrypté."
      ]
    },
    {
      "cell_type": "markdown",
      "id": "ffee1862",
      "metadata": {
        "id": "ffee1862"
      },
      "source": [
        "<div style=\"background-color:rgba(0, 255, 0, 0.19);padding:3%;\">\n",
        "<b>Réponse : </b> Il y a 312 résultats à analyser. La clé est 11,7 et le texte décrypté est <b>lechiffrementaffineestmieuxmaisilestencorefacileaattaquerenbruteforce</b>\n",
        "</div>"
      ]
    }
  ],
  "metadata": {
    "colab": {
      "include_colab_link": true,
      "provenance": []
    },
    "kernelspec": {
      "display_name": "Python 3 (ipykernel)",
      "language": "python",
      "name": "python3"
    },
    "language_info": {
      "codemirror_mode": {
        "name": "ipython",
        "version": 3
      },
      "file_extension": ".py",
      "mimetype": "text/x-python",
      "name": "python",
      "nbconvert_exporter": "python",
      "pygments_lexer": "ipython3",
      "version": "3.10.6"
    }
  },
  "nbformat": 4,
  "nbformat_minor": 5
}
