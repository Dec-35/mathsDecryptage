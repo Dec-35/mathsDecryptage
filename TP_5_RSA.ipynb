{
  "cells": [
    {
      "cell_type": "markdown",
      "id": "7663bc90",
      "metadata": {
        "id": "7663bc90"
      },
      "source": [
        "# TP 5 - Chiffrement asymétrique"
      ]
    },
    {
      "cell_type": "code",
      "execution_count": 10,
      "id": "8f1cde6e",
      "metadata": {
        "id": "8f1cde6e"
      },
      "outputs": [],
      "source": [
        "from OutilsCrypto import *"
      ]
    },
    {
      "cell_type": "markdown",
      "id": "598f9d1b",
      "metadata": {
        "id": "598f9d1b"
      },
      "source": [
        "Le chiffrement asymétrique, ou chiffrement à clef publique, permet d'assurer la confidentialité d'une communication, ou d'authentifier les participants, sans que cela repose sur une donnée secrète partagée entre ceux-ci, contrairement à la cryptographie symétrique qui nécessite de partager ce secret au préalable.\n",
        "\n",
        "Le terme asymétrique s'explique par le fait que le chiffrement est basé sur 2 clés : la clé <b>publique</b> utilisée pour <b>chiffrer</b> le message et la clé <b>privée</b> utilisée pour <b>déchiffrer</b> le message reçu.\n",
        "\n",
        "Imaginons que Alice souhaite envoyer un message confidentiel à Bob. Bob va commencer par créer un tel couple de clé et publie sa clé publique alors qu'il garde sa clé secrète pour lui. Alice va chiffrer son message avec la clé publique de Bob et celui-ci sera le seul à pouvoir le déchiffrer à l'aide de sa clé privée.\n",
        "\n",
        "Ce concept a été créé par Whitfield Diffie et Martin Hellman en 1976 pour écrire un algorithme permettant d'échanger la clé privée d'un algorithme de chiffrement symétrique et a ensuite été mis en oeuvre dans un algorithme de chiffrement asymétrique par Ronald <b>R</b>ivest, Adi <b>S</b>hamir et Leonard <b>A</b>dleman en 1978. Cet algorithme, plus connu sous le nom de RSA,  est encore très utilisé de nos jours."
      ]
    },
    {
      "cell_type": "markdown",
      "id": "8fb0f4fa",
      "metadata": {
        "id": "8fb0f4fa"
      },
      "source": [
        "## 1. Echange de clé de Diffie-Hellman"
      ]
    },
    {
      "cell_type": "markdown",
      "id": "ba8aeca5",
      "metadata": {
        "id": "ba8aeca5"
      },
      "source": [
        "L'algorithme d'échange de clé de Diffie-Hellman est utilisé notamment lors de l’ouverture d’une connexion à un site sécurisé via le protocole SSL/TLS.\n",
        "\n",
        "L'algorithme d'échange de clé de Diffie-Hellman permet à Alice et Bob de se mettre d'accord secrètement sur un nombre qui pourra servir par la suite de clé privée dans un système de chiffrement symétrique.\n",
        "\n",
        "Le principe est le suivant :\n",
        "- Alice et Bob ont choisi un nombre premier $p$ et un entier $g$ strictement plus petit que $p$ (ces 2 nombres n'ont pas besoin d'être secrets) ;\n",
        "- Alice choisit un nombre $a$ au hasard qu'elle garde secret, et envoie à Bob le nombre $\\displaystyle A=g^{a}[p]$ (« g puissance a modulo p ») ;\n",
        "- De même, Bob choisit un nombre $b$ au hasard qu'il garde secret, et transmet le nombre $\\displaystyle B=g^{b}[p]$ ;\n",
        "- Alice, avec le nombre $B$ reçu de Bob, calcule $\\displaystyle B^{a}[p]$. Elle obtient donc le nombre $\\displaystyle g^{ba}[p]$ ;\n",
        "- Bob fait le calcul analogue avec le nombre $A$ reçu d'Alice : $\\displaystyle A^{b}[p]$. Il obtient $\\displaystyle g^{ab}[p]$, ce qui est le même nombre que celui obtenu par Alice.\n",
        "\n",
        "Avec cet algorithme, Alice et Bob se retrouvent avec la connaissance du même nombre $g^{ab}[p]$ qui pourra leur servir de clé secrète pour chiffrer une communication à l'ai de d'un algorithme de chiffrement symétrique.\n",
        "\n",
        "Quelqu'un qui intercepterait $A$ et/ou $B$ n'aurait pas la possibilité de deviner la clé $g^{ab}[p]$, car il n'existe pas à ce jour d'algorithme performant capable de faire ce calcul en temps raisonnable (à condition que les nombres $p$, $g$, $a$ et $b$ soient choisis de taille conséquente)."
      ]
    },
    {
      "cell_type": "markdown",
      "id": "22ad237b",
      "metadata": {
        "id": "22ad237b"
      },
      "source": [
        "<b>Exercice 1.</b> Écrire la fonction <code>echangeDiffieHellman(p,g)</code> qui simule cet échange en demandant à Alice et Bob leurs nombres secrets et en affichant la clé générée pour Alice et pour Bob. Vérifiez que c'est bien la même clé."
      ]
    },
    {
      "cell_type": "code",
      "execution_count": 5,
      "id": "fb05e114",
      "metadata": {
        "id": "fb05e114"
      },
      "outputs": [],
      "source": [
        "def calculer_cle_privee(nombre_secret, base, modulo):\n",
        "    return (base**nombre_secret) % modulo\n",
        "\n",
        "\n",
        "def echangeDiffieHellman(p, g):\n",
        "    alice_secret = int(input(\"Alice, entrez le nombre secret : \"))\n",
        "    bob_secret = int(input(\"Bob, entrez le nombre secret : \"))\n",
        "\n",
        "    A = calculer_cle_privee(alice_secret, g, p)\n",
        "    B = calculer_cle_privee(bob_secret, g, p)\n",
        "\n",
        "    cle_alice = calculer_cle_privee(alice_secret, B, p)\n",
        "    cle_bob = calculer_cle_privee(bob_secret, A, p)\n",
        "\n",
        "    print(\"Clé Alice : \" + str(cle_alice))\n",
        "    print(\"Clé Bob : \" + str(cle_bob))\n",
        "\n",
        "    if cle_alice == cle_bob:\n",
        "        print(\"Les clés sont égales\")\n",
        "    else:\n",
        "        print(\"Les clés ne sont pas égales\")"
      ]
    },
    {
      "cell_type": "markdown",
      "id": "3055937d",
      "metadata": {
        "id": "3055937d"
      },
      "source": [
        "Exécuer le bloc suivant pour vérifier votre fonction."
      ]
    },
    {
      "cell_type": "code",
      "execution_count": 7,
      "id": "2b6840fe",
      "metadata": {
        "colab": {
          "base_uri": "https://localhost:8080/"
        },
        "id": "2b6840fe",
        "outputId": "799848b8-c2d9-4bcc-d7d5-336e4f827d31"
      },
      "outputs": [
        {
          "name": "stdout",
          "output_type": "stream",
          "text": [
            "Clé Alice : 4\n",
            "Clé Bob : 4\n",
            "Les clés sont égales\n"
          ]
        }
      ],
      "source": [
        "echangeDiffieHellman(23,5) # si Alice choisit a = 6 et Bob choisit b = 15, la clé générée doit être égale à 2"
      ]
    },
    {
      "cell_type": "markdown",
      "id": "78d94107",
      "metadata": {
        "id": "78d94107"
      },
      "source": [
        "## 2. RSA"
      ]
    },
    {
      "cell_type": "markdown",
      "id": "9a0f9af9",
      "metadata": {
        "id": "9a0f9af9"
      },
      "source": [
        "L'algorithme de chiffrement RSA utilise un couple (clé publique, clé privée) construit de la façon suivante :\n",
        "- on choisit 2 nombres premiers $p$ et $q$\n",
        "- on calcule $n = pq$\n",
        "- on calcule $\\varphi(n) = (p-1)(q-1)$\n",
        "- on choisit un entier $e$ premier avec $\\varphi(n)$ ($2\\leq e\\leq \\varphi(n)$)\n",
        "- on calule l'inverse $d$ de $e$ modulo $\\varphi(n)$.\n",
        "\n",
        "Le couple $(e,n)$ est alors la clé publique et le couple $(d,n)$ est la clé privée.\n",
        "\n",
        "Si Alice veut envoyer un message à Bob, alors elle va le chiffrer avec la clé publique de Bob et Bob déchiffrera le massage reçu avec sa clé privée.\n",
        "\n",
        "Le chiffrement se fait de la façon suivante :\n",
        "- chaque lettre est codée en un nombre $x$ entre 0 et 25\n",
        "- puis on effectue le chiffrement en calculant $X \\equiv x^e \\pmod{n}$\n",
        "\n",
        "Le déchiffrement se fait de la façon suivante :\n",
        "- on effectue le déchiffrement de chaque nombre $X$ reçu en calculant $x \\equiv X^d \\pmod{n}$\n",
        "- puis on décode chaque résultat pour retrouver la lettre associée\n",
        "\n",
        "Le message est bien déchiffré grâce à la propriété suivante :\n",
        "\n",
        "Soient $p$ et $q$ deux nombres premiers et soit $n = pq$. Soit $a$ un entier tel que $0\\leq a \\leq n$, alors\n",
        "$$\n",
        "\\forall k\\in\\mathbb{N},\\  a^{k\\varphi(n)+1} \\equiv a \\pmod n\n",
        "$$\n",
        "\n",
        "En effet, $X^d \\equiv (x^{e})^d \\equiv x^{ed} \\equiv x^{k\\varphi(n)+1} \\equiv x \\pmod n$ et on retrouve donc bien le message $x$ d'origine.\n"
      ]
    },
    {
      "cell_type": "markdown",
      "id": "37e9d3ff",
      "metadata": {
        "id": "37e9d3ff"
      },
      "source": [
        "<b>Exercice 2.</b> Écrire la fonction <code>get_prime(size)</code> qui renvoie un nombre premier au hasard de <code>size</code> bits.\n",
        "\n",
        "<i>(vous pouvez par exemple utiliser la fonction <code>random.getrandbits(size)</code> de la librairie <code>math</code> et tester si le nombre obtenu est premier à l'aide de la fonction que vous aviez codée dans le TP 1)</i>"
      ]
    },
    {
      "cell_type": "code",
      "execution_count": 20,
      "id": "cbe27417",
      "metadata": {
        "id": "cbe27417"
      },
      "outputs": [],
      "source": [
        "import random\n",
        "\n",
        "def get_prime(size):\n",
        "    while(True):\n",
        "      nb = random.getrandbits(size)\n",
        "      nb |= 1 # force le dernier bit à 1 pour être sûr d'avoir un nombre impair\n",
        "      if(isPrime(nb)):\n",
        "        return nb"
      ]
    },
    {
      "cell_type": "markdown",
      "id": "6b916e17",
      "metadata": {
        "id": "6b916e17"
      },
      "source": [
        "Tester votre fonction en exécutant le bloc suivant."
      ]
    },
    {
      "cell_type": "code",
      "execution_count": 21,
      "id": "11c6eadf",
      "metadata": {
        "colab": {
          "base_uri": "https://localhost:8080/"
        },
        "id": "11c6eadf",
        "outputId": "79ef9f80-33a0-411a-d204-3786b66b2f24"
      },
      "outputs": [
        {
          "data": {
            "text/plain": [
              "151"
            ]
          },
          "execution_count": 21,
          "metadata": {},
          "output_type": "execute_result"
        }
      ],
      "source": [
        "get_prime(8)"
      ]
    },
    {
      "cell_type": "markdown",
      "id": "22eb8eac",
      "metadata": {
        "id": "22eb8eac"
      },
      "source": [
        "Écrire la fonction <code>chiffre_RSA(txt, size)</code> qui renvoie <code>txt_chiffre, (e, n), (d, n)</code> où <code>txt_chiffre</code> est le chiffrement RSA de <code>txt</code> sous la forme d'une liste de nombres, <code>(e,n)</code> est la clé publique générée et <code>(d,n)</code> est la clé privée générée."
      ]
    },
    {
      "cell_type": "markdown",
      "id": "ce61b74e",
      "metadata": {
        "id": "ce61b74e"
      },
      "source": [
        "<div style=\"background-color:rgba(255, 255, 0, 0.19);padding:3%;\">\n",
        "<b>Important : pour calculer les puissances $x^e \\pmod n$, utilisez pour l'instant l'opération ** : <code>x**e %n</code>\n",
        "    </b>\n",
        "</div>"
      ]
    },
    {
      "cell_type": "code",
      "execution_count": 22,
      "id": "7387f836",
      "metadata": {
        "id": "7387f836"
      },
      "outputs": [],
      "source": [
        "def chiffre_RSA(txt, size):\n",
        "    # Générer deux nombres premiers distincts\n",
        "    p = get_prime(size)\n",
        "    q = get_prime(size)\n",
        "\n",
        "    # Calculer le produit des deux nombres premiers\n",
        "    n = p * q\n",
        "\n",
        "    # Calculer la fonction d'Euler de n\n",
        "    phi_n = (p - 1) * (q - 1)\n",
        "\n",
        "    # Choisir un exposant de chiffrement e aléatoire\n",
        "    e = random.randint(2, phi_n - 1)\n",
        "    while not isPrime(e):\n",
        "        e = random.randint(2, phi_n - 1)\n",
        "\n",
        "    # Calculer l'exposant de déchiffrement d\n",
        "    d = invMod(e, phi_n)\n",
        "\n",
        "    # Chiffrer le texte en utilisant la clé publique (e, n)\n",
        "    txt_chiffre = [pow(ord(char), e, n) for char in txt]\n",
        "\n",
        "    return txt_chiffre, (e, n), (d, n)"
      ]
    },
    {
      "cell_type": "markdown",
      "id": "9f8bb36d",
      "metadata": {
        "id": "9f8bb36d"
      },
      "source": [
        "Tester votre fonction en exécutant le bloc suivant."
      ]
    },
    {
      "cell_type": "code",
      "execution_count": 35,
      "id": "6247e164",
      "metadata": {
        "colab": {
          "base_uri": "https://localhost:8080/"
        },
        "id": "6247e164",
        "outputId": "119446ce-c712-43f7-8921-06e37d049a1b"
      },
      "outputs": [
        {
          "name": "stdout",
          "output_type": "stream",
          "text": [
            "texte chiffré =  [37157, 812, 16424, 16424, 11087, 6951, 812, 16424, 812, 543, 36875, 812, 26227]\n",
            "clé publique =  (31469, 45901)\n",
            "clé privée =  (4517, 45901)\n"
          ]
        }
      ],
      "source": [
        "(texte_chiffre, (e,n), (d,n)) = chiffre_RSA(\"messagesecret\",8)\n",
        "\n",
        "print(\"texte chiffré = \",texte_chiffre) # Affiche une liste de nombres du type [26665, 29673, ...]\n",
        "print(\"clé publique = \", (e,n)) # Affiche un couple du type (3143, 38579) qui représente la clé publique\n",
        "print(\"clé privée = \", (d,n)) # Affiche un couple du type (7751, 38579) qui représente la clé privée"
      ]
    },
    {
      "cell_type": "markdown",
      "id": "9ea8d9d7",
      "metadata": {
        "id": "9ea8d9d7"
      },
      "source": [
        "Écrire la fonction <code>dechiffre_RSA(txt, d, n)</code> qui déchiffre le massage <code>txt</code> avec la clé privée <code>(d,n)</code>"
      ]
    },
    {
      "cell_type": "code",
      "execution_count": 36,
      "id": "e4192d58",
      "metadata": {
        "id": "e4192d58"
      },
      "outputs": [],
      "source": [
        "def dechiffre_RSA(txt_chiffre, d, n):\n",
        "    txt_dechiffre = \"\".join(chr(pow(char, d, n)) for char in txt_chiffre)\n",
        "    return txt_dechiffre"
      ]
    },
    {
      "cell_type": "markdown",
      "id": "dfe0c393",
      "metadata": {
        "id": "dfe0c393"
      },
      "source": [
        "Tester votre fonction en exécutant le bloc suivant."
      ]
    },
    {
      "cell_type": "code",
      "execution_count": 40,
      "id": "1cea3422",
      "metadata": {
        "colab": {
          "base_uri": "https://localhost:8080/"
        },
        "id": "1cea3422",
        "outputId": "737a052b-b2a9-44c6-9f9a-73bb93d2f9df"
      },
      "outputs": [
        {
          "name": "stdout",
          "output_type": "stream",
          "text": [
            "texte chiffré =  [305, 738, 143, 143, 48, 180, 738, 143, 738, 239, 695, 738, 676]\n",
            "texte déchiffré =  messagesecret\n"
          ]
        }
      ],
      "source": [
        "(texte_chiffre, (e,n), (d,n)) = chiffre_RSA(\"messagesecret\",8)\n",
        "print(\"texte chiffré = \",texte_chiffre)\n",
        "print(\"texte déchiffré = \",dechiffre_RSA(texte_chiffre, d,n))"
      ]
    },
    {
      "cell_type": "markdown",
      "id": "4a5e1bb4",
      "metadata": {
        "id": "4a5e1bb4"
      },
      "source": [
        "## 3. Sécurité et rapidité"
      ]
    },
    {
      "cell_type": "markdown",
      "id": "c7cd3fb4",
      "metadata": {
        "id": "c7cd3fb4"
      },
      "source": [
        "La sécurité de cet algorithme repose sur la difficulté de trouver la clé privée $(d,n)$ malgré la connaissance de la clé publique $(e,n)$. Expliquer en quoi c'est difficile et comment nous devons choisir $p$ et $q$ pour garantir la sécurité du chiffrement."
      ]
    },
    {
      "cell_type": "markdown",
      "id": "69f3c7f0",
      "metadata": {
        "id": "69f3c7f0"
      },
      "source": [
        "<div style=\"background-color:rgba(0, 255, 0, 0.19);padding:3%;\">\n",
        "<b>Réponse : La complexité du chiffrement RSA repose sur la difficulté à factoriser le produit de deux grands nombres premiers, généralement notés p et q. Plus ces nombres sont grands, plus la factorisation devient difficile. La sécurité du chiffrement RSA repose sur le fait que factoriser le produit de deux grands nombres premiers est une tâche complexe, notamment lorsque ces nombres sont choisis aléatoirement et sont de magnitude élevée. Il faut donc choisir p et q de manière aléatoire et les rendre les plus grands possible</b>\n",
        "</div>"
      ]
    },
    {
      "cell_type": "markdown",
      "id": "94734401",
      "metadata": {
        "id": "94734401"
      },
      "source": [
        "Essayons de choisir des nombres premiers plus grands. Exécuter le bloc suivant en prenant des tailles de plus en plus grandes, quel problème rencontrons-nous ?"
      ]
    },
    {
      "cell_type": "code",
      "execution_count": 42,
      "id": "b16700d1",
      "metadata": {
        "colab": {
          "base_uri": "https://localhost:8080/"
        },
        "id": "b16700d1",
        "outputId": "f447e8dd-b0a9-434e-d31e-5df84ba295e0"
      },
      "outputs": [
        {
          "name": "stdout",
          "output_type": "stream",
          "text": [
            "179\n",
            "173\n",
            "30967\n"
          ]
        }
      ],
      "source": [
        "size = 8\n",
        "p = get_prime(size)\n",
        "print(p)\n",
        "q = get_prime(size)\n",
        "print(q)\n",
        "n = p*q\n",
        "print(n)"
      ]
    },
    {
      "cell_type": "markdown",
      "id": "882556f8",
      "metadata": {
        "id": "882556f8"
      },
      "source": [
        "On considèrera qu'il faudrait choisir une taille de 512 bits pour assurer un minimum de sécurité, avez-vous testé une telle valeur ? Il est temps de revoir notre façon de tester si un nombre est premier ou non..."
      ]
    },
    {
      "cell_type": "markdown",
      "id": "e4a05b9b",
      "metadata": {
        "id": "e4a05b9b"
      },
      "source": [
        "### 3.1 Test de Miller-Rabin"
      ]
    },
    {
      "cell_type": "markdown",
      "id": "0ae7cb84",
      "metadata": {
        "id": "0ae7cb84"
      },
      "source": [
        "L'algorithme suivant s'appuie sur le test de Miller-Rabin pour vérifier si un nombre est premier ou non."
      ]
    },
    {
      "cell_type": "code",
      "execution_count": 43,
      "id": "7a81299e",
      "metadata": {
        "id": "7a81299e"
      },
      "outputs": [],
      "source": [
        "def is_prime_MR(n):\n",
        "  # Vérification rapide de la primalité en utilisant les tests de Miller-Rabin\n",
        "  if n in (2, 3):\n",
        "    return True\n",
        "  if n == 1 or n % 2 == 0:\n",
        "    return False\n",
        "  d = n - 1\n",
        "  r = 0\n",
        "  while d % 2 == 0:\n",
        "    d //= 2\n",
        "    r += 1\n",
        "  for _ in range(10):\n",
        "    a = random.randrange(2, n - 1)\n",
        "    x = pow(a, d, n)\n",
        "    if x == 1 or x == n - 1:\n",
        "      continue\n",
        "    for _ in range(r - 1):\n",
        "      x = pow(x, 2, n)\n",
        "      if x == n - 1:\n",
        "        break\n",
        "    else:\n",
        "      return False\n",
        "  return True"
      ]
    },
    {
      "cell_type": "markdown",
      "id": "5f9466a6",
      "metadata": {
        "id": "5f9466a6"
      },
      "source": [
        "<b>Exercice 3.</b> Modifier la fonction de recherche de nombre premier pour qu'elle utilise cette nouvelle fonction."
      ]
    },
    {
      "cell_type": "code",
      "execution_count": 44,
      "id": "06669e47",
      "metadata": {
        "id": "06669e47"
      },
      "outputs": [],
      "source": [
        "def get_prime_MR(size):\n",
        "    while True:\n",
        "      nb = random.getrandbits(size)\n",
        "      nb |= 1\n",
        "      if is_prime_MR(nb):\n",
        "        return nb"
      ]
    },
    {
      "cell_type": "markdown",
      "id": "90f35c55",
      "metadata": {
        "id": "90f35c55"
      },
      "source": [
        "Tester à nouveau la recherche de nombres premiers de grande taille."
      ]
    },
    {
      "cell_type": "code",
      "execution_count": 45,
      "id": "32398755",
      "metadata": {
        "colab": {
          "base_uri": "https://localhost:8080/"
        },
        "id": "32398755",
        "outputId": "43a82f42-d255-440d-eeba-20469f4bc63a"
      },
      "outputs": [
        {
          "name": "stdout",
          "output_type": "stream",
          "text": [
            "10004842448303499734532721501211059245078590014252827084958898283310793459185962477314122870961148307967462801553429614030064563071989123345740709833524187\n",
            "1063478453933329973387789071618509184421055372348545579747086534627433784382957466600475137452788954481266651395378829279749936914767425129650553914926083\n",
            "10639934378768357708190897207741773669853907321854821997705324697124657554307980999053337043487160062509912906090762924332925341025762077763748431651131759817120782041107272467483185430910034334233324038315893393726289792125937202154001203133594949911669569436065647466182400109080083059826165051277497669521\n"
          ]
        }
      ],
      "source": [
        "size = 512\n",
        "p = get_prime_MR(size)\n",
        "print(p)\n",
        "q = get_prime_MR(size)\n",
        "print(q)\n",
        "n = p*q\n",
        "print(n)"
      ]
    },
    {
      "cell_type": "markdown",
      "id": "f71bc047",
      "metadata": {
        "id": "f71bc047"
      },
      "source": [
        "Le résultat est désormais très rapide, même pour de très grands nombres premiers.\n",
        "Modifier la fonction chiffreRSA avec cette nouvelle façon de générer des nombres premiers."
      ]
    },
    {
      "cell_type": "code",
      "execution_count": 50,
      "id": "293b8767",
      "metadata": {
        "id": "293b8767"
      },
      "outputs": [],
      "source": [
        "def chiffre_RSA_MR(txt, size):\n",
        "    # Générer deux nombres premiers distincts\n",
        "    p = get_prime_MR(size)\n",
        "    q = get_prime_MR(size)\n",
        "\n",
        "    # Calculer le produit des deux nombres premiers\n",
        "    n = p * q\n",
        "\n",
        "    # Calculer la fonction d'Euler de n\n",
        "    phi_n = (p - 1) * (q - 1)\n",
        "\n",
        "    # Choisir un exposant de chiffrement e aléatoire\n",
        "    e = random.randint(2, phi_n - 1)\n",
        "    while not is_prime_MR(e):\n",
        "        e = random.randint(2, phi_n - 1)\n",
        "\n",
        "    # Calculer l'exposant de déchiffrement d\n",
        "    d = invMod(e, phi_n)\n",
        "\n",
        "    # Chiffrer le texte en utilisant la clé publique (e, n)\n",
        "    txt_chiffre = [pow(ord(char), e, n) for char in txt]\n",
        "\n",
        "    return txt_chiffre, (e, n), (d, n)"
      ]
    },
    {
      "cell_type": "markdown",
      "id": "fa9361a7",
      "metadata": {
        "id": "fa9361a7"
      },
      "source": [
        "Tester votre fonction en exécutant le bloc suivant avec différentes tailles."
      ]
    },
    {
      "cell_type": "code",
      "execution_count": 53,
      "id": "96fe7016",
      "metadata": {
        "colab": {
          "base_uri": "https://localhost:8080/"
        },
        "id": "96fe7016",
        "outputId": "b592a29e-4d37-4688-ba2c-b6f6451e15bb"
      },
      "outputs": [
        {
          "name": "stdout",
          "output_type": "stream",
          "text": [
            "texte chiffré =  [1686, 1138, 1857, 1857, 1626, 1701, 1138, 1857, 1138, 1248, 351, 1138, 925]\n",
            "texte déchiffré =  messagesecret\n"
          ]
        }
      ],
      "source": [
        "size = 8\n",
        "(texte_chiffre, (e,n), (d,n)) = chiffre_RSA_MR(\"messagesecret\",size)\n",
        "print(\"texte chiffré = \",texte_chiffre)\n",
        "print(\"texte déchiffré = \",dechiffre_RSA(texte_chiffre, d,n))"
      ]
    },
    {
      "cell_type": "markdown",
      "id": "a7b39197",
      "metadata": {
        "id": "a7b39197"
      },
      "source": [
        "Il nous reste un problème : si $p$ et $q$ sont des grands nombres, dans l'algorithme RSA, on est amené à calculer des puissances énormes, ce qui pose un gros problème si on ne fait pas ça intelligemment !"
      ]
    },
    {
      "cell_type": "markdown",
      "id": "83f6c4e1",
      "metadata": {
        "id": "83f6c4e1"
      },
      "source": [
        "### 3.2 Exponentiation modulaire rapide"
      ]
    },
    {
      "cell_type": "markdown",
      "id": "087a2e79",
      "metadata": {
        "id": "087a2e79"
      },
      "source": [
        "L'idée de l'algorithme d'exponentiation modulaire rapide est de ne calculer que des puissances de 2 en prenant le modulo à chaque fois.\n",
        "\n",
        "Par exemple, pour calculer $4^{13} \\mod{26}$ par exemple, on va écrire\n",
        "$$\n",
        "4^{13} \\equiv 4*(4^2)^6 \\equiv 4*((16)^2)^3 \\equiv 4*(256)^3 \\equiv 4*(22)^3 \\equiv 4*22*22^2 \\equiv 4*22*484 \\equiv 4*22*16 \\equiv 1408 \\equiv 4 \\pmod{26}\n",
        "$$\n",
        "\n",
        "L'algorithme en pseudo-code peut se décrire de la façon suivante :\n",
        "\n",
        "<code>\n",
        "fast_exp(x,k,n) # calcul de x^k mod n\n",
        "    r = 1\n",
        "    x = x %n\n",
        "    TantQue k > 0\n",
        "        Si k est impair\n",
        "            r = r*x %n\n",
        "        x = x^2 %n\n",
        "        k = le quotient de la division de k par 2\n",
        "    retourner r\n",
        "</code>"
      ]
    },
    {
      "cell_type": "markdown",
      "id": "8df06778",
      "metadata": {
        "id": "8df06778"
      },
      "source": [
        "<b>Exercice 4.</b> Écrire la fonction <code>fast_exp(x,k,n)</code> qui implémente l'exponentiation modulaire rapide."
      ]
    },
    {
      "cell_type": "code",
      "execution_count": 59,
      "id": "fb6d258b",
      "metadata": {
        "id": "fb6d258b"
      },
      "outputs": [],
      "source": [
        "def fast_exp(x,k,n):\n",
        "    r = 1\n",
        "    x = x % n\n",
        "\n",
        "    while k > 0:\n",
        "        if k % 2 == 1:\n",
        "            r = (r * x) % n\n",
        "        x = (x * x) % n\n",
        "        k //= 2\n",
        "    return r"
      ]
    },
    {
      "cell_type": "markdown",
      "id": "72ace5bb",
      "metadata": {
        "id": "72ace5bb"
      },
      "source": [
        "Tester votre fonction en exécutant le bloc suivant avec différents paramètres."
      ]
    },
    {
      "cell_type": "code",
      "execution_count": 19,
      "id": "e819f979",
      "metadata": {
        "colab": {
          "base_uri": "https://localhost:8080/"
        },
        "id": "e819f979",
        "outputId": "7f4afe13-d300-4e72-f997-32c3f93165f6"
      },
      "outputs": [
        {
          "data": {
            "text/plain": [
              "1"
            ]
          },
          "execution_count": 19,
          "metadata": {},
          "output_type": "execute_result"
        }
      ],
      "source": [
        "fast_exp(5,6,4)"
      ]
    },
    {
      "cell_type": "markdown",
      "id": "c299be79",
      "metadata": {
        "id": "c299be79"
      },
      "source": [
        "Modifier les fonctions chiffre_RSA et dechiffre_RSA avec cette nouvelle façon de calculer les puissances."
      ]
    },
    {
      "cell_type": "code",
      "execution_count": 60,
      "id": "da7cc9d7",
      "metadata": {
        "id": "da7cc9d7"
      },
      "outputs": [],
      "source": [
        "def chiffre_RSA_MR_FE(txt, size):\n",
        "    p = get_prime_MR(size)\n",
        "    q = get_prime_MR(size)\n",
        "\n",
        "    n = p * q\n",
        "    phi_n = (p - 1) * (q - 1)\n",
        "\n",
        "    e = random.randint(2, phi_n)\n",
        "    while not is_prime_MR(e):\n",
        "        e = random.randint(2, phi_n)\n",
        "    d = invMod(e, phi_n)\n",
        "\n",
        "    txt_chiffre = [fast_exp(ord(char), e, n) for char in txt]\n",
        "\n",
        "    return txt_chiffre, (e, n), (d, n)\n",
        "\n",
        "\n",
        "def dechiffre_RSA_FE(txt_chiffre, d, n):\n",
        "    txt_dechiffre = \"\".join(chr(fast_exp(char, d, n)) for char in txt_chiffre)\n",
        "    return txt_dechiffre"
      ]
    },
    {
      "cell_type": "markdown",
      "id": "b7b59d8e",
      "metadata": {
        "id": "b7b59d8e"
      },
      "source": [
        "Tester votre fonction en exécutant le bloc suivant avec différentes tailles."
      ]
    },
    {
      "cell_type": "code",
      "execution_count": 61,
      "id": "3966672c",
      "metadata": {
        "colab": {
          "base_uri": "https://localhost:8080/",
          "height": 36
        },
        "id": "3966672c",
        "outputId": "d7d644ac-87db-497c-a4f6-b7e71b71dda7"
      },
      "outputs": [
        {
          "data": {
            "text/plain": [
              "'messagesecret'"
            ]
          },
          "execution_count": 61,
          "metadata": {},
          "output_type": "execute_result"
        }
      ],
      "source": [
        "(texte_chiffre, (e, n), (d, n)) = chiffre_RSA_MR_FE(\"messagesecret\", 512)\n",
        "dechiffre_RSA_FE(texte_chiffre, d, n)"
      ]
    },
    {
      "cell_type": "markdown",
      "id": "39f09a49",
      "metadata": {
        "id": "39f09a49"
      },
      "source": [
        "## 4. Authentification"
      ]
    },
    {
      "cell_type": "markdown",
      "id": "6c951b9b",
      "metadata": {
        "id": "6c951b9b"
      },
      "source": [
        "<b>Exercice 5.</b> Le chiffrement RSA peut également servir à authentifier l'expéditeur d'un message. En effet, il suffit à l'expéditeur de chiffrer son message à l'aide de sa clé privée. Écrire dans le bloc suivant la simulation d'un envoie de message de Alice à Bob de sorte que le message soit à la fois authentifié comme venant bien d'Alice et chiffré pour garder son contenu secret."
      ]
    },
    {
      "cell_type": "code",
      "execution_count": 63,
      "id": "14492d6a",
      "metadata": {
        "colab": {
          "base_uri": "https://localhost:8080/",
          "height": 380
        },
        "id": "14492d6a",
        "outputId": "4cd696fb-eb6c-49bb-d7d5-e6a46786b1cc"
      },
      "outputs": [
        {
          "ename": "OverflowError",
          "evalue": "Python int too large to convert to C int",
          "output_type": "error",
          "traceback": [
            "\u001b[0;31m---------------------------------------------------------------------------\u001b[0m",
            "\u001b[0;31mOverflowError\u001b[0m                             Traceback (most recent call last)",
            "Cell \u001b[0;32mIn[63], line 6\u001b[0m\n\u001b[1;32m      2\u001b[0m messageOriginal \u001b[38;5;241m=\u001b[39m \u001b[38;5;124m\"\u001b[39m\u001b[38;5;124mSalut Bob c\u001b[39m\u001b[38;5;124m'\u001b[39m\u001b[38;5;124mest Alice\u001b[39m\u001b[38;5;124m\"\u001b[39m\n\u001b[1;32m      4\u001b[0m messageChiffre, priveAlice, publicAlice \u001b[38;5;241m=\u001b[39m chiffre_RSA_MR_FE(messageOriginal, size)\n\u001b[0;32m----> 6\u001b[0m message_authentifie \u001b[38;5;241m=\u001b[39m \u001b[43mdechiffre_RSA_FE\u001b[49m\u001b[43m(\u001b[49m\u001b[43mmessageChiffre\u001b[49m\u001b[43m,\u001b[49m\u001b[43m \u001b[49m\u001b[43md\u001b[49m\u001b[43m,\u001b[49m\u001b[43m \u001b[49m\u001b[43mn\u001b[49m\u001b[43m)\u001b[49m\n\u001b[1;32m      8\u001b[0m \u001b[38;5;66;03m# Affichage des résultats\u001b[39;00m\n\u001b[1;32m      9\u001b[0m \u001b[38;5;28mprint\u001b[39m(\u001b[38;5;124m\"\u001b[39m\u001b[38;5;124mMessage original d\u001b[39m\u001b[38;5;124m'\u001b[39m\u001b[38;5;124mAlice à Bob:\u001b[39m\u001b[38;5;124m\"\u001b[39m, messageOriginal)\n",
            "Cell \u001b[0;32mIn[60], line 19\u001b[0m, in \u001b[0;36mdechiffre_RSA_FE\u001b[0;34m(txt_chiffre, d, n)\u001b[0m\n\u001b[1;32m     18\u001b[0m \u001b[38;5;28;01mdef\u001b[39;00m \u001b[38;5;21mdechiffre_RSA_FE\u001b[39m(txt_chiffre, d, n):\n\u001b[0;32m---> 19\u001b[0m     txt_dechiffre \u001b[38;5;241m=\u001b[39m \u001b[38;5;124;43m\"\u001b[39;49m\u001b[38;5;124;43m\"\u001b[39;49m\u001b[38;5;241;43m.\u001b[39;49m\u001b[43mjoin\u001b[49m\u001b[43m(\u001b[49m\u001b[38;5;28;43mchr\u001b[39;49m\u001b[43m(\u001b[49m\u001b[43mfast_exp\u001b[49m\u001b[43m(\u001b[49m\u001b[43mchar\u001b[49m\u001b[43m,\u001b[49m\u001b[43m \u001b[49m\u001b[43md\u001b[49m\u001b[43m,\u001b[49m\u001b[43m \u001b[49m\u001b[43mn\u001b[49m\u001b[43m)\u001b[49m\u001b[43m)\u001b[49m\u001b[43m \u001b[49m\u001b[38;5;28;43;01mfor\u001b[39;49;00m\u001b[43m \u001b[49m\u001b[43mchar\u001b[49m\u001b[43m \u001b[49m\u001b[38;5;129;43;01min\u001b[39;49;00m\u001b[43m \u001b[49m\u001b[43mtxt_chiffre\u001b[49m\u001b[43m)\u001b[49m\n\u001b[1;32m     20\u001b[0m     \u001b[38;5;28;01mreturn\u001b[39;00m txt_dechiffre\n",
            "Cell \u001b[0;32mIn[60], line 19\u001b[0m, in \u001b[0;36m<genexpr>\u001b[0;34m(.0)\u001b[0m\n\u001b[1;32m     18\u001b[0m \u001b[38;5;28;01mdef\u001b[39;00m \u001b[38;5;21mdechiffre_RSA_FE\u001b[39m(txt_chiffre, d, n):\n\u001b[0;32m---> 19\u001b[0m     txt_dechiffre \u001b[38;5;241m=\u001b[39m \u001b[38;5;124m\"\u001b[39m\u001b[38;5;124m\"\u001b[39m\u001b[38;5;241m.\u001b[39mjoin(\u001b[38;5;28;43mchr\u001b[39;49m\u001b[43m(\u001b[49m\u001b[43mfast_exp\u001b[49m\u001b[43m(\u001b[49m\u001b[43mchar\u001b[49m\u001b[43m,\u001b[49m\u001b[43m \u001b[49m\u001b[43md\u001b[49m\u001b[43m,\u001b[49m\u001b[43m \u001b[49m\u001b[43mn\u001b[49m\u001b[43m)\u001b[49m\u001b[43m)\u001b[49m \u001b[38;5;28;01mfor\u001b[39;00m char \u001b[38;5;129;01min\u001b[39;00m txt_chiffre)\n\u001b[1;32m     20\u001b[0m     \u001b[38;5;28;01mreturn\u001b[39;00m txt_dechiffre\n",
            "\u001b[0;31mOverflowError\u001b[0m: Python int too large to convert to C int"
          ]
        }
      ],
      "source": [
        "# Non fonctionnel\n",
        "size = 8\n",
        "messageOriginal = \"Salut Bob c'est Alice\"\n",
        "\n",
        "messageChiffre, priveAlice, publicAlice = chiffre_RSA_MR_FE(messageOriginal, size)\n",
        "\n",
        "message_authentifie = dechiffre_RSA_FE(messageChiffre, d, n)\n",
        "\n",
        "# Affichage des résultats\n",
        "print(\"Message original d'Alice à Bob:\", messageOriginal)\n",
        "print(\"Signature chiffrée par Alice:\", messageChiffre)\n",
        "print(\"Message authentifié par Bob:\", message_authentifie)"
      ]
    },
    {
      "cell_type": "code",
      "execution_count": null,
      "id": "DKwq5KihSuWH",
      "metadata": {
        "id": "DKwq5KihSuWH"
      },
      "outputs": [],
      "source": []
    }
  ],
  "metadata": {
    "colab": {
      "provenance": []
    },
    "kernelspec": {
      "display_name": "Python 3 (ipykernel)",
      "language": "python",
      "name": "python3"
    },
    "language_info": {
      "codemirror_mode": {
        "name": "ipython",
        "version": 3
      },
      "file_extension": ".py",
      "mimetype": "text/x-python",
      "name": "python",
      "nbconvert_exporter": "python",
      "pygments_lexer": "ipython3",
      "version": "3.10.6"
    }
  },
  "nbformat": 4,
  "nbformat_minor": 5
}
